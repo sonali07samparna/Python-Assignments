{
 "cells": [
  {
   "cell_type": "markdown",
   "metadata": {},
   "source": [
    "### 1. Define different types of variables (integer, boolean,string, float, complex) and print their values and their types"
   ]
  },
  {
   "cell_type": "code",
   "execution_count": 93,
   "metadata": {},
   "outputs": [
    {
     "name": "stdout",
     "output_type": "stream",
     "text": [
      "2\n",
      "<class 'int'>\n",
      "==================================================\n",
      "True\n",
      "<class 'str'>\n",
      "==================================================\n",
      " Hello Sonali\n",
      "<class 'str'>\n",
      "==================================================\n",
      "7.9\n",
      "<class 'float'>\n",
      "==================================================\n",
      "(2+3j)\n",
      "<class 'complex'>\n"
     ]
    }
   ],
   "source": [
    "a = 2\n",
    "b = 'True'\n",
    "c = \" Hello Sonali\"\n",
    "d = 7.9\n",
    "e = 2 + 3j\n",
    "\n",
    "print(a)\n",
    "print(type(a))\n",
    "\n",
    "print(\"=\" * 50)\n",
    "print(b)\n",
    "print(type(b))\n",
    "\n",
    "print(\"=\" * 50)\n",
    "print(c)\n",
    "print(type(c))\n",
    "\n",
    "print(\"=\" * 50)\n",
    "print(d)\n",
    "print(type(d))\n",
    "\n",
    "print(\"=\" * 50)\n",
    "print(e)\n",
    "print(type(e))"
   ]
  },
  {
   "cell_type": "markdown",
   "metadata": {},
   "source": [
    "### 2. In the above question convert float variable into integer type and integer variable into str type."
   ]
  },
  {
   "cell_type": "code",
   "execution_count": 14,
   "metadata": {},
   "outputs": [
    {
     "name": "stdout",
     "output_type": "stream",
     "text": [
      "7\n",
      "<class 'int'>\n"
     ]
    }
   ],
   "source": [
    "D = int(d)      #convert float variable 'd' into integer type\n",
    "print(D)\n",
    "print(type(D))    "
   ]
  },
  {
   "cell_type": "code",
   "execution_count": 15,
   "metadata": {},
   "outputs": [
    {
     "name": "stdout",
     "output_type": "stream",
     "text": [
      "2\n",
      "<class 'str'>\n"
     ]
    }
   ],
   "source": [
    "A = str(a)    #convert integer variable 'a' into string type\n",
    "print(A)\n",
    "print(type(a))"
   ]
  },
  {
   "cell_type": "markdown",
   "metadata": {},
   "source": [
    "### 3. What will you get converting “abc” into boolean ?"
   ]
  },
  {
   "cell_type": "code",
   "execution_count": 17,
   "metadata": {},
   "outputs": [
    {
     "name": "stdout",
     "output_type": "stream",
     "text": [
      "True\n"
     ]
    },
    {
     "data": {
      "text/plain": [
       "bool"
      ]
     },
     "execution_count": 17,
     "metadata": {},
     "output_type": "execute_result"
    }
   ],
   "source": [
    "string = \"abc\"\n",
    "boolean = bool(\"abc\")      #Converting string to boolean\n",
    "print(boolean)\n",
    "type(boolean)"
   ]
  },
  {
   "cell_type": "markdown",
   "metadata": {},
   "source": [
    "### 4. Print the substring from index 2 to index 4 for any given string. For example (llo) from “Hello World”"
   ]
  },
  {
   "cell_type": "code",
   "execution_count": 19,
   "metadata": {},
   "outputs": [
    {
     "data": {
      "text/plain": [
       "'llo'"
      ]
     },
     "execution_count": 19,
     "metadata": {},
     "output_type": "execute_result"
    }
   ],
   "source": [
    "string1 = \"Hello World\"\n",
    "string1[2:5]"
   ]
  },
  {
   "cell_type": "markdown",
   "metadata": {},
   "source": [
    "### 5. Write a program to check a substring in a given string. For example 'e' is present in the word 'Umbrella'"
   ]
  },
  {
   "cell_type": "code",
   "execution_count": 22,
   "metadata": {},
   "outputs": [
    {
     "name": "stdout",
     "output_type": "stream",
     "text": [
      "4\n",
      "True\n"
     ]
    }
   ],
   "source": [
    "string2 = 'Umbrella'\n",
    "print(string2.find('e'))    #Method 1\n",
    "\n",
    "print('e' in string2)       #Method 2"
   ]
  },
  {
   "cell_type": "markdown",
   "metadata": {},
   "source": [
    "### 6. Use the correct comparison operator to check if 5 is not equal to 10."
   ]
  },
  {
   "cell_type": "code",
   "execution_count": 23,
   "metadata": {},
   "outputs": [
    {
     "data": {
      "text/plain": [
       "False"
      ]
     },
     "execution_count": 23,
     "metadata": {},
     "output_type": "execute_result"
    }
   ],
   "source": [
    "x = 5\n",
    "y = 10\n",
    "\n",
    "x == y      #Comparision operator checking if 5 is not equal to 10\n"
   ]
  },
  {
   "cell_type": "markdown",
   "metadata": {},
   "source": [
    "### 7. Write a program to get a string from the user and sort the words of the string in alphabetical order."
   ]
  },
  {
   "cell_type": "code",
   "execution_count": 30,
   "metadata": {},
   "outputs": [
    {
     "name": "stdout",
     "output_type": "stream",
     "text": [
      "Enter a string: jhhsdjcnksdjhfjknv\n",
      "Sorted in Alphabatic order: ['c', 'd', 'd', 'f', 'h', 'h', 'h', 'j', 'j', 'j', 'j', 'k', 'k', 'n', 'n', 's', 's', 'v']\n"
     ]
    }
   ],
   "source": [
    "string = input(\"Enter a string: \")\n",
    "sort = sorted(string)\n",
    "print(\"Sorted in Alphabatic order: \" + str(sort))"
   ]
  },
  {
   "cell_type": "markdown",
   "metadata": {},
   "source": [
    "### 8. Join two words using special characters like ‘ – ‘ ,’#’"
   ]
  },
  {
   "cell_type": "code",
   "execution_count": 42,
   "metadata": {},
   "outputs": [
    {
     "name": "stdout",
     "output_type": "stream",
     "text": [
      "Hello-World\n",
      "Hello#World\n"
     ]
    }
   ],
   "source": [
    "word = [\"Hello\",\"World\"]\n",
    "s = '-'\n",
    "h = '#'\n",
    "\n",
    "print(s.join(word))     #Using '-'\n",
    "print(h.join(word))     #using '#'"
   ]
  },
  {
   "cell_type": "markdown",
   "metadata": {},
   "source": [
    "### 9. Find all occurrences of “INDIA” in a given string ignoring the case.\n",
    "> ### input_str = \"Welcome to INDIA. india is awesome."
   ]
  },
  {
   "cell_type": "code",
   "execution_count": 56,
   "metadata": {},
   "outputs": [
    {
     "name": "stdout",
     "output_type": "stream",
     "text": [
      "2\n"
     ]
    }
   ],
   "source": [
    "input_str = \"Welcome to INDIA. india is awesome.\"\n",
    "count = input_str.upper().count(\"INDIA\")    #converting the string to upper case\n",
    "print(count)"
   ]
  },
  {
   "cell_type": "markdown",
   "metadata": {},
   "source": [
    "### 10. Replace first two ‘l’ with ‘n’ in ‘Hello World’"
   ]
  },
  {
   "cell_type": "code",
   "execution_count": 60,
   "metadata": {},
   "outputs": [
    {
     "name": "stdout",
     "output_type": "stream",
     "text": [
      "Henno World\n"
     ]
    }
   ],
   "source": [
    "a = 'Hello World'\n",
    "replace = a.replace('l' , 'n',2)    #Replacing only first 2 'l'\n",
    "print(replace)"
   ]
  },
  {
   "cell_type": "markdown",
   "metadata": {},
   "source": [
    "### 11. Write a program that takes your full name as input and displays the abbreviations of the first and middle names except the last name which is displayed as it is. For example, if your name is Robert Brett Roser, then the output should be R.B.Roser."
   ]
  },
  {
   "cell_type": "code",
   "execution_count": 87,
   "metadata": {},
   "outputs": [
    {
     "name": "stdout",
     "output_type": "stream",
     "text": [
      "What is your name : Sonali Samparna Bohidar\n",
      "Your abbreviated name is : S.S.Bohidar\n"
     ]
    }
   ],
   "source": [
    "name = input('What is your name : ')\n",
    "a = name.split()\n",
    "b = a[0][0] + '.' + a[1][0] + '.' + a[2]\n",
    "\n",
    "print('Your abbreviated name is : ' + b)"
   ]
  },
  {
   "cell_type": "markdown",
   "metadata": {},
   "source": [
    "### 12. Write a program to check if a given string is a Palindrome. A palindrome reads the same from front and back e.g.- aba, ccaacc, mom, etc."
   ]
  },
  {
   "cell_type": "code",
   "execution_count": 96,
   "metadata": {},
   "outputs": [
    {
     "name": "stdout",
     "output_type": "stream",
     "text": [
      "Enter a string : radar\n",
      "True\n",
      "==================================================\n",
      "The string is Pallindrom\n"
     ]
    }
   ],
   "source": [
    "string = input(\"Enter a string : \")\n",
    "b = string[::-1]\n",
    "\n",
    "\n",
    "#Method 1\n",
    "print(string == b)\n",
    "\n",
    "print(\"=\" * 50)\n",
    "#Method 2:\n",
    "if string == b:\n",
    "    print(\"The string is Pallindrom\")\n",
    "else:\n",
    "    print(\"The string is not pallindrom\")"
   ]
  },
  {
   "cell_type": "code",
   "execution_count": null,
   "metadata": {},
   "outputs": [],
   "source": []
  }
 ],
 "metadata": {
  "kernelspec": {
   "display_name": "Python 3",
   "language": "python",
   "name": "python3"
  },
  "language_info": {
   "codemirror_mode": {
    "name": "ipython",
    "version": 3
   },
   "file_extension": ".py",
   "mimetype": "text/x-python",
   "name": "python",
   "nbconvert_exporter": "python",
   "pygments_lexer": "ipython3",
   "version": "3.7.1"
  }
 },
 "nbformat": 4,
 "nbformat_minor": 2
}
