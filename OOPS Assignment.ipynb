{
 "cells": [
  {
   "cell_type": "markdown",
   "metadata": {},
   "source": [
    "### 1. Create an empty class\n",
    "### class Dog:\n",
    "### species = \"Canis familiaris\"\n",
    "### def __init__(self, name, age):\n",
    "### self.name = name\n",
    "### self.age = age\n",
    "### buddy = Dog(\"Buddy\", 9)\n",
    "### miles = Dog(\"Miles\", 4)"
   ]
  },
  {
   "cell_type": "code",
   "execution_count": 4,
   "metadata": {},
   "outputs": [],
   "source": [
    "class Dog:\n",
    "    species = \"Canis familiaris\"\n",
    "\n",
    "    def __init__(self, name, age):\n",
    "        self.name = name\n",
    "        self.age = age\n",
    "buddy = Dog(\"Buddy\", 9)\n",
    "miles = Dog(\"Miles\", 4)\n",
    "        "
   ]
  },
  {
   "cell_type": "markdown",
   "metadata": {},
   "source": [
    "### 2. Given the Dog class above retrieve the Object and class attributes."
   ]
  },
  {
   "cell_type": "code",
   "execution_count": 13,
   "metadata": {},
   "outputs": [
    {
     "name": "stdout",
     "output_type": "stream",
     "text": [
      "Buddy\n",
      "Canis familiaris\n",
      "9\n",
      "4\n",
      "Miles\n",
      "Canis familiaris\n",
      "Canis familiaris\n",
      "<built-in method mro of type object at 0x7fbf100bbc68>\n"
     ]
    }
   ],
   "source": [
    "print(buddy.name)\n",
    "print(buddy.species)\n",
    "print(buddy.age)\n",
    "print(miles.age)\n",
    "print(miles.name)\n",
    "print(miles.species)\n",
    "print(Dog.species)"
   ]
  },
  {
   "cell_type": "markdown",
   "metadata": {},
   "source": [
    "### 3. Write a Python class named Circle constructed by a radius and two methods which will compute the area and the perimeter of a circle."
   ]
  },
  {
   "cell_type": "code",
   "execution_count": 15,
   "metadata": {},
   "outputs": [
    {
     "name": "stdout",
     "output_type": "stream",
     "text": [
      "50.24\n",
      "25.12\n"
     ]
    }
   ],
   "source": [
    "class Circle():\n",
    "    def __init__(self, r):\n",
    "        self.radius = r\n",
    "\n",
    "    def area(self):\n",
    "        return self.radius**2*3.14\n",
    "    \n",
    "    def perimeter(self):\n",
    "        return 2*self.radius*3.14\n",
    "\n",
    "NewCircle = Circle(4)\n",
    "print(NewCircle.area())\n",
    "print(NewCircle.perimeter())\n",
    "    "
   ]
  },
  {
   "cell_type": "markdown",
   "metadata": {},
   "source": [
    "### 4. Write a Python class to reverse a string word by word.\n",
    "### For example:\n",
    "### Input string : 'hello world'\n",
    "### Expected Output : 'world hello'"
   ]
  },
  {
   "cell_type": "code",
   "execution_count": 22,
   "metadata": {},
   "outputs": [
    {
     "name": "stdout",
     "output_type": "stream",
     "text": [
      "['hello', 'world']\n",
      "['world', 'hello']\n",
      "world hello\n"
     ]
    }
   ],
   "source": [
    "string = \"hello world\"          ## initializing the string\n",
    "\n",
    "words = string.split()          ## splitting the string on space\n",
    "print(words)\n",
    "words = list(reversed(words))   ## reversing the words using reversed() function\n",
    "print(words)\n",
    "print(\" \".join(words))          ## joining the words using \" \"(space) and printing"
   ]
  },
  {
   "cell_type": "markdown",
   "metadata": {},
   "source": [
    "### 5. Create a Student class and initialize it with name and roll number. Make methods to :\n",
    "### i) Display - It should display all information of the student.\n",
    "### ii)setAge - It should assign age to student\n",
    "### iii) setMarks - It should assign marks to the student."
   ]
  },
  {
   "cell_type": "code",
   "execution_count": 47,
   "metadata": {},
   "outputs": [
    {
     "name": "stdout",
     "output_type": "stream",
     "text": [
      "20\n"
     ]
    }
   ],
   "source": [
    "class Student():\n",
    "  def __init__(self,name,roll):\n",
    "    self.name = name\n",
    "    self.roll= roll\n",
    "    \n",
    "  def display(self):\n",
    "    print(self.name)\n",
    "    print(self.roll)\n",
    "    \n",
    "  def setAge(self,age):\n",
    "    self.age=age\n",
    "    \n",
    "  def setMarks(self,marks):\n",
    "    self.marks = marks\n",
    "    \n",
    "  def getAge(self):     \n",
    "        return self.age\n",
    "    \n",
    "new_student = Student(name='Sonali', roll = 9)\n",
    "new_student.setAge(20)\n",
    "new_student.setMarks(95)\n",
    "print(new_student.getAge())"
   ]
  },
  {
   "cell_type": "markdown",
   "metadata": {},
   "source": [
    "### 6. Write a Python class named Rectangle constructed by a length and width and a method which will compute the area of a rectangle."
   ]
  },
  {
   "cell_type": "code",
   "execution_count": 48,
   "metadata": {},
   "outputs": [
    {
     "name": "stdout",
     "output_type": "stream",
     "text": [
      "Enter length of rectangle: 3\n",
      "Enter breadth of rectangle: 4\n",
      "Area of rectangle: 12\n",
      "\n"
     ]
    }
   ],
   "source": [
    "class rectangle():\n",
    "    def __init__(self,breadth,length):\n",
    "        self.breadth=breadth\n",
    "        self.length=length\n",
    "    def area(self):\n",
    "        return self.breadth*self.length\n",
    "a=int(input(\"Enter length of rectangle: \"))\n",
    "b=int(input(\"Enter breadth of rectangle: \"))\n",
    "\n",
    "obj=rectangle(a,b)\n",
    "print(\"Area of rectangle:\",obj.area())\n",
    " \n",
    "print()"
   ]
  },
  {
   "cell_type": "code",
   "execution_count": null,
   "metadata": {},
   "outputs": [],
   "source": []
  }
 ],
 "metadata": {
  "kernelspec": {
   "display_name": "Python 3",
   "language": "python",
   "name": "python3"
  },
  "language_info": {
   "codemirror_mode": {
    "name": "ipython",
    "version": 3
   },
   "file_extension": ".py",
   "mimetype": "text/x-python",
   "name": "python",
   "nbconvert_exporter": "python",
   "pygments_lexer": "ipython3",
   "version": "3.7.1"
  }
 },
 "nbformat": 4,
 "nbformat_minor": 2
}
