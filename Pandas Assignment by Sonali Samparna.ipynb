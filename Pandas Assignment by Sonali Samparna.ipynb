{
 "cells": [
  {
   "cell_type": "markdown",
   "metadata": {},
   "source": [
    "#### 1. Define and create a Dataframe using Pandas.\n"
   ]
  },
  {
   "cell_type": "code",
   "execution_count": 1,
   "metadata": {},
   "outputs": [
    {
     "name": "stdout",
     "output_type": "stream",
     "text": [
      "   Name  Age\n",
      "0  Emp1   28\n",
      "1  Emp2   34\n",
      "2  Emp3   29\n",
      "3  Emp4   42\n"
     ]
    }
   ],
   "source": [
    "import pandas as pd\n",
    "\n",
    "\n",
    "data = {'Name':['Emp1', 'Emp2', 'Emp3', 'Emp4'],'Age':[28,34,29,42]}\n",
    "df = pd.DataFrame(data)\n",
    "print(df)\n"
   ]
  },
  {
   "cell_type": "markdown",
   "metadata": {},
   "source": [
    "#### 2. How can we calculate the standard deviation from the series.\n"
   ]
  },
  {
   "cell_type": "code",
   "execution_count": 2,
   "metadata": {},
   "outputs": [
    {
     "name": "stdout",
     "output_type": "stream",
     "text": [
      "The standard deviation of the 3 marks column are: \n",
      "marks1    12.186058\n",
      "marks2    11.937336\n",
      "marks3    14.272351\n",
      "dtype: float64\n"
     ]
    }
   ],
   "source": [
    "series1 = {'Name':['Stud1','stud2','stud3','stud4','stud5'],'marks1':[90,87,60,86,77],\n",
    "           'marks2':[95,88,64,86,77],'marks3':[99,77,60,86,77]}\n",
    "df = pd.DataFrame(series1)\n",
    "sd = df.std()\n",
    "print(\"The standard deviation of the 3 marks column are: \")\n",
    "print(sd)"
   ]
  },
  {
   "cell_type": "markdown",
   "metadata": {},
   "source": [
    "#### 3. Create a Dataframe using List given below:\n",
    " lis=[‘Python’,’Numpy’,’Pandas’]\n"
   ]
  },
  {
   "cell_type": "code",
   "execution_count": 3,
   "metadata": {},
   "outputs": [
    {
     "name": "stdout",
     "output_type": "stream",
     "text": [
      "        0\n",
      "0  Python\n",
      "1   Numpy\n",
      "2  Pandas\n"
     ]
    }
   ],
   "source": [
    "lis=['Python','Numpy','Pandas']\n",
    "df = pd.DataFrame(lis)\n",
    "print(df)"
   ]
  },
  {
   "cell_type": "markdown",
   "metadata": {},
   "source": [
    "#### 4. Create a Series from dictionary given below:\n",
    "info = {'x' : 0., 'y' : 1., 'z' : 2.}\n"
   ]
  },
  {
   "cell_type": "code",
   "execution_count": 4,
   "metadata": {},
   "outputs": [
    {
     "name": "stdout",
     "output_type": "stream",
     "text": [
      "x    0.0\n",
      "y    1.0\n",
      "z    2.0\n",
      "dtype: float64\n"
     ]
    }
   ],
   "source": [
    "info = {'x' : 0., 'y' : 1., 'z' : 2.}\n",
    "series2 = pd.Series(info)\n",
    "print(series2)"
   ]
  },
  {
   "cell_type": "markdown",
   "metadata": {},
   "source": [
    "#### 5. How will you create an empty Dataframe in Pandas?\n"
   ]
  },
  {
   "cell_type": "code",
   "execution_count": 5,
   "metadata": {},
   "outputs": [
    {
     "name": "stdout",
     "output_type": "stream",
     "text": [
      "Empty DataFrame\n",
      "Columns: []\n",
      "Index: []\n"
     ]
    }
   ],
   "source": [
    "df1 = pd.DataFrame() \n",
    "print(df1)"
   ]
  },
  {
   "cell_type": "markdown",
   "metadata": {},
   "source": [
    "#### 6. i) Add a column to that pandas Dataframe that you created in Q1\n",
    "#### ii) Change index of that Dataframe.\n"
   ]
  },
  {
   "cell_type": "code",
   "execution_count": 7,
   "metadata": {},
   "outputs": [
    {
     "name": "stdout",
     "output_type": "stream",
     "text": [
      "Dataframe Created in Question-5 Empty DataFrame\n",
      "Columns: []\n",
      "Index: []\n",
      "Dataframe after Adding Column\n",
      "   Age\n",
      "0  20\n",
      "1  30\n",
      "2  43\n",
      "3  50\n",
      "Dataframe after Changing Index\n",
      "      Age\n",
      "age1  20\n",
      "age2  30\n",
      "age3  43\n",
      "age4  50\n"
     ]
    }
   ],
   "source": [
    "#i) Add a column to that pandas Dataframe that you created in Q1\n",
    "print(\"Dataframe Created in Question-5\",df1)\n",
    "Age = ['20','30','43','50']\n",
    "df1['Age'] = Age\n",
    "print(\"Dataframe after Adding Column\\n\",df1)\n",
    "\n",
    "#ii) Change index of that Dataframe.\n",
    "newindex = ['age1','age2','age3','age4']\n",
    "print(\"Dataframe after Changing Index\\n\",df1.set_index(pd.Index(['age1','age2','age3','age4'])))"
   ]
  },
  {
   "cell_type": "markdown",
   "metadata": {},
   "source": [
    "#### 7. Get the following from this dataframe:\n",
    "\n",
    " import random\n",
    " A = [ random.randint(0,100) for i in range(10) ]\n",
    " B = [ random.randint(0,100) for i in range(10) ]\n",
    " \n",
    " df = pd.DataFrame({ 'field_A': A, 'field_B': B })\n",
    " \n",
    " i) mean\n",
    " \n",
    " ii) median\n",
    " \n",
    " iii) mode\n",
    " \n",
    " iv) 75th percentile\n",
    " \n",
    " v) 90th percentile\n",
    " \n",
    " vi) 99th percentile\n"
   ]
  },
  {
   "cell_type": "code",
   "execution_count": 8,
   "metadata": {},
   "outputs": [
    {
     "name": "stdout",
     "output_type": "stream",
     "text": [
      "Mean is field_A    52.7\n",
      "field_B    28.6\n",
      "dtype: float64\n",
      "Median is field_A    53.0\n",
      "field_B    24.5\n",
      "dtype: float64\n",
      "Mode is    field_A  field_B\n",
      "0       53       57\n",
      "75th Percentile field_A    74.25\n",
      "field_B    49.75\n",
      "Name: 0.75, dtype: float64\n",
      "90th Percentile field_A    89.2\n",
      "field_B    58.2\n",
      "Name: 0.9, dtype: float64\n",
      "99th Percentile field_A    98.92\n",
      "field_B    67.92\n",
      "Name: 0.99, dtype: float64\n"
     ]
    }
   ],
   "source": [
    "import random\n",
    "A = [ random.randint(0,100) for i in range(10) ]\n",
    "B = [ random.randint(0,100) for i in range(10) ]\n",
    "df = pd.DataFrame({ 'field_A': A, 'field_B': B })\n",
    "print(\"Mean is\",df.mean())\n",
    "print(\"Median is\",df.median())\n",
    "print(\"Mode is\",df.mode())\n",
    "print(\"75th Percentile\",df.quantile(0.75))\n",
    "print(\"90th Percentile\",df.quantile(0.9))\n",
    "print(\"99th Percentile\",df.quantile(0.99))"
   ]
  },
  {
   "cell_type": "markdown",
   "metadata": {},
   "source": [
    "#### 8. How do you count how many unique rows a DataFrame has (i.e. ignore all rows that are duplicates)?\n",
    "\n"
   ]
  },
  {
   "cell_type": "code",
   "execution_count": 9,
   "metadata": {},
   "outputs": [
    {
     "name": "stdout",
     "output_type": "stream",
     "text": [
      "  Emp_Name  Emp_age\n",
      "0     Emp1       40\n",
      "1     Emp2       37\n",
      "2     Emp3       22\n",
      "3     Emp1       40\n",
      "4     Emp3       22\n",
      "5     Emp3       22\n",
      "6     Emp4       27\n",
      "No of Unique Rows are :  4\n"
     ]
    }
   ],
   "source": [
    "data={'Emp_Name': ['Emp1','Emp2','Emp3','Emp1','Emp3','Emp3','Emp4'],\n",
    "          'Emp_age': [40,37,22,40,22,22,27]}\n",
    "df=pd.DataFrame(data)\n",
    "print(pd.DataFrame(df,columns=['Emp_Name','Emp_age']))\n",
    "print(\"No of Unique Rows are : \",len(df.drop_duplicates()))"
   ]
  },
  {
   "cell_type": "markdown",
   "metadata": {},
   "source": [
    "#### 9. How to keep only top 2 most frequent values as it is and replace everything else as ‘Other’? Take the following as input.\n",
    "#### np.random.RandomState(100)\n",
    "#### ser = pd.Series(np.random.randint(1, 5, [12]))\n"
   ]
  },
  {
   "cell_type": "code",
   "execution_count": 10,
   "metadata": {},
   "outputs": [
    {
     "name": "stdout",
     "output_type": "stream",
     "text": [
      "Original Series is : \n",
      "  0     2\n",
      "1     2\n",
      "2     3\n",
      "3     2\n",
      "4     3\n",
      "5     3\n",
      "6     2\n",
      "7     2\n",
      "8     4\n",
      "9     1\n",
      "10    2\n",
      "11    3\n",
      "dtype: int64\n",
      "After not replacing top 2 most frequent values and  everything else as Other : \n",
      "  0         2\n",
      "1         2\n",
      "2         3\n",
      "3         2\n",
      "4         3\n",
      "5         3\n",
      "6         2\n",
      "7         2\n",
      "8     Other\n",
      "9     Other\n",
      "10        2\n",
      "11        3\n",
      "dtype: object\n"
     ]
    }
   ],
   "source": [
    "import numpy as np\n",
    "np.random.RandomState(100)\n",
    "ser = pd.Series(np.random.randint(1, 5, [12]))\n",
    "print(\"Original Series is : \\n \", ser)\n",
    "ser[~ser.isin(ser.value_counts().index[:2])] = 'Other'\n",
    "print(\"After not replacing top 2 most frequent values and  everything else as Other : \\n \",ser)"
   ]
  },
  {
   "cell_type": "markdown",
   "metadata": {},
   "source": [
    "#### 10. A DataFrame has a column of groups 'grps' and and column of integer values 'vals':\n",
    "\n",
    " df = pd.DataFrame({'grps':list('aaabbcaabcccbbc'),\n",
    " 'vals': [12, 345, 3, 1, 45, 14 , 4, 52, 54, 23, 235, 21, 57, 3, 87]})\n",
    "\n",
    "For each group, find the sum of the three greatest values. You should end up with the answer as follows: grps\n",
    "a 409\n",
    "b 156\n",
    "c 345\n",
    "\n",
    "*Create a dataframe for the following to answer the next few questions\n",
    "\n",
    "data = {'animal': ['cat', 'cat', 'snake', 'dog', 'dog', 'cat','snake', 'cat', 'dog', 'dog'],'age': [2.5, 3, 0.5, np.nan, 5, 2, 4.5, np.nan, 7, 3],'visits': [1, 3, 2, 3, 2, 3, 1, 1, 2, 1],'priority': ['yes', 'yes', 'no', 'yes', 'no', 'no', 'no', 'yes', 'no','no']}labels = ['a', 'b', 'c', 'd', 'e', 'f', 'g', 'h', 'i', 'j']\n"
   ]
  },
  {
   "cell_type": "code",
   "execution_count": 11,
   "metadata": {},
   "outputs": [
    {
     "name": "stdout",
     "output_type": "stream",
     "text": [
      "For each group, find the sum of the three greatest values grps\n",
      "a    409\n",
      "b    156\n",
      "c    345\n",
      "Name: vals, dtype: int64\n"
     ]
    },
    {
     "data": {
      "text/html": [
       "<div>\n",
       "<style scoped>\n",
       "    .dataframe tbody tr th:only-of-type {\n",
       "        vertical-align: middle;\n",
       "    }\n",
       "\n",
       "    .dataframe tbody tr th {\n",
       "        vertical-align: top;\n",
       "    }\n",
       "\n",
       "    .dataframe thead th {\n",
       "        text-align: right;\n",
       "    }\n",
       "</style>\n",
       "<table border=\"1\" class=\"dataframe\">\n",
       "  <thead>\n",
       "    <tr style=\"text-align: right;\">\n",
       "      <th></th>\n",
       "      <th>animal</th>\n",
       "      <th>age</th>\n",
       "      <th>visits</th>\n",
       "      <th>priority</th>\n",
       "    </tr>\n",
       "  </thead>\n",
       "  <tbody>\n",
       "    <tr>\n",
       "      <th>a</th>\n",
       "      <td>cat</td>\n",
       "      <td>2.5</td>\n",
       "      <td>1</td>\n",
       "      <td>yes</td>\n",
       "    </tr>\n",
       "    <tr>\n",
       "      <th>b</th>\n",
       "      <td>cat</td>\n",
       "      <td>3.0</td>\n",
       "      <td>3</td>\n",
       "      <td>yes</td>\n",
       "    </tr>\n",
       "    <tr>\n",
       "      <th>c</th>\n",
       "      <td>snake</td>\n",
       "      <td>0.5</td>\n",
       "      <td>2</td>\n",
       "      <td>no</td>\n",
       "    </tr>\n",
       "    <tr>\n",
       "      <th>d</th>\n",
       "      <td>dog</td>\n",
       "      <td>NaN</td>\n",
       "      <td>3</td>\n",
       "      <td>yes</td>\n",
       "    </tr>\n",
       "    <tr>\n",
       "      <th>e</th>\n",
       "      <td>dog</td>\n",
       "      <td>5.0</td>\n",
       "      <td>2</td>\n",
       "      <td>no</td>\n",
       "    </tr>\n",
       "    <tr>\n",
       "      <th>f</th>\n",
       "      <td>cat</td>\n",
       "      <td>2.0</td>\n",
       "      <td>3</td>\n",
       "      <td>no</td>\n",
       "    </tr>\n",
       "    <tr>\n",
       "      <th>g</th>\n",
       "      <td>snake</td>\n",
       "      <td>4.5</td>\n",
       "      <td>1</td>\n",
       "      <td>no</td>\n",
       "    </tr>\n",
       "    <tr>\n",
       "      <th>h</th>\n",
       "      <td>cat</td>\n",
       "      <td>NaN</td>\n",
       "      <td>1</td>\n",
       "      <td>yes</td>\n",
       "    </tr>\n",
       "    <tr>\n",
       "      <th>i</th>\n",
       "      <td>dog</td>\n",
       "      <td>7.0</td>\n",
       "      <td>2</td>\n",
       "      <td>no</td>\n",
       "    </tr>\n",
       "    <tr>\n",
       "      <th>j</th>\n",
       "      <td>dog</td>\n",
       "      <td>3.0</td>\n",
       "      <td>1</td>\n",
       "      <td>no</td>\n",
       "    </tr>\n",
       "  </tbody>\n",
       "</table>\n",
       "</div>"
      ],
      "text/plain": [
       "  animal  age  visits priority\n",
       "a    cat  2.5       1      yes\n",
       "b    cat  3.0       3      yes\n",
       "c  snake  0.5       2       no\n",
       "d    dog  NaN       3      yes\n",
       "e    dog  5.0       2       no\n",
       "f    cat  2.0       3       no\n",
       "g  snake  4.5       1       no\n",
       "h    cat  NaN       1      yes\n",
       "i    dog  7.0       2       no\n",
       "j    dog  3.0       1       no"
      ]
     },
     "execution_count": 11,
     "metadata": {},
     "output_type": "execute_result"
    }
   ],
   "source": [
    "df = pd.DataFrame({'grps':list('aaabbcaabcccbbc'),'vals': [12, 345, 3, 1, 45, 14 , 4, 52, 54, 23, 235,21, 57, 3, 87]})\n",
    "print(\"For each group, find the sum of the three greatest values\",df.groupby('grps').vals.nlargest(3).sum(level=0))\n",
    "\n",
    "\n",
    "#Create a dataframe for the following to answer the next few questions\n",
    "#data = {'animal': ['cat', 'cat', 'snake', 'dog', 'dog', 'cat',\n",
    "#'snake', 'cat', 'dog', 'dog'],\n",
    "#'age': [2.5, 3, 0.5, np.nan, 5, 2, 4.5, np.nan, 7, 3],\n",
    "#'visits': [1, 3, 2, 3, 2, 3, 1, 1, 2, 1],\n",
    "#'priority': ['yes', 'yes', 'no', 'yes', 'no', 'no', 'no', 'yes', 'no',\n",
    "#'no']}\n",
    "#labels = ['a', 'b', 'c', 'd', 'e', 'f', 'g', 'h', 'i', 'j']\n",
    "\n",
    "data = {'animal': ['cat', 'cat', 'snake', 'dog', 'dog', 'cat',\n",
    "'snake', 'cat', 'dog', 'dog'],\n",
    "'age': [2.5, 3, 0.5, np.nan, 5, 2, 4.5, np.nan, 7, 3],\n",
    "'visits': [1, 3, 2, 3, 2, 3, 1, 1, 2, 1],\n",
    "'priority': ['yes', 'yes', 'no', 'yes', 'no', 'no', 'no', 'yes', 'no',\n",
    "'no']}\n",
    "labels = ['a', 'b', 'c', 'd', 'e', 'f', 'g', 'h', 'i', 'j']\n",
    "animals_data=pd.DataFrame(data,index=labels)\n",
    "animals_data"
   ]
  },
  {
   "cell_type": "markdown",
   "metadata": {},
   "source": [
    "#### 11. Display a summary of the basic information about this DataFrame and its data (hint: there is a single method that can be called on the DataFrame).\n",
    "\n"
   ]
  },
  {
   "cell_type": "code",
   "execution_count": 12,
   "metadata": {},
   "outputs": [
    {
     "name": "stdout",
     "output_type": "stream",
     "text": [
      "<class 'pandas.core.frame.DataFrame'>\n",
      "Index: 10 entries, a to j\n",
      "Data columns (total 4 columns):\n",
      "animal      10 non-null object\n",
      "age         8 non-null float64\n",
      "visits      10 non-null int64\n",
      "priority    10 non-null object\n",
      "dtypes: float64(1), int64(1), object(2)\n",
      "memory usage: 400.0+ bytes\n",
      "Summary of Basic Description : \n",
      " None\n",
      "Statistical information:\n",
      "             age     visits\n",
      "count  8.000000  10.000000\n",
      "mean   3.437500   1.900000\n",
      "std    2.007797   0.875595\n",
      "min    0.500000   1.000000\n",
      "25%    2.375000   1.000000\n",
      "50%    3.000000   2.000000\n",
      "75%    4.625000   2.750000\n",
      "max    7.000000   3.000000\n"
     ]
    }
   ],
   "source": [
    "print('Summary of Basic Description : \\n',animals_data.info()) \n",
    "print('Statistical information:\\n',animals_data.describe())"
   ]
  },
  {
   "cell_type": "markdown",
   "metadata": {},
   "source": [
    "#### 12. Select the rows where the age is between 2 and 4 (inclusive).\n"
   ]
  },
  {
   "cell_type": "code",
   "execution_count": 13,
   "metadata": {},
   "outputs": [
    {
     "name": "stdout",
     "output_type": "stream",
     "text": [
      "Rows between age 2 and 4\n",
      "   animal  age  visits priority\n",
      "a    cat  2.5       1      yes\n",
      "b    cat  3.0       3      yes\n"
     ]
    }
   ],
   "source": [
    "print(\"Rows between age 2 and 4\\n\",animals_data.sort_values(by='age')[2:4])"
   ]
  },
  {
   "cell_type": "markdown",
   "metadata": {},
   "source": [
    "#### 13. Select the data in rows [3, 4, 8] and in columns ['animal', 'age'].\n"
   ]
  },
  {
   "cell_type": "code",
   "execution_count": 14,
   "metadata": {},
   "outputs": [
    {
     "name": "stdout",
     "output_type": "stream",
     "text": [
      "Data in rows 3,4,8 and in columns animal,age\n",
      "   animal  age\n",
      "c  snake  0.5\n",
      "e    dog  5.0\n",
      "h    cat  NaN\n"
     ]
    }
   ],
   "source": [
    "print(\"Data in rows 3,4,8 and in columns animal,age\\n\",animals_data.iloc[[2,4,7]][['animal','age']])"
   ]
  },
  {
   "cell_type": "markdown",
   "metadata": {},
   "source": [
    "#### 14. Select the rows where the age is missing, i.e. it is NaN.\n"
   ]
  },
  {
   "cell_type": "code",
   "execution_count": 15,
   "metadata": {},
   "outputs": [
    {
     "name": "stdout",
     "output_type": "stream",
     "text": [
      "Rows where age is missing i.e NAN\n",
      "   animal  age  visits priority\n",
      "d    dog  NaN       3      yes\n",
      "h    cat  NaN       1      yes\n"
     ]
    }
   ],
   "source": [
    "print(\"Rows where age is missing i.e NAN\\n\",animals_data[animals_data['age'].isnull()])"
   ]
  },
  {
   "cell_type": "markdown",
   "metadata": {},
   "source": [
    "#### 15. Select the rows where the animal is a cat and the age is less than 3.\n"
   ]
  },
  {
   "cell_type": "code",
   "execution_count": 16,
   "metadata": {},
   "outputs": [
    {
     "name": "stdout",
     "output_type": "stream",
     "text": [
      "Animal is Cat and age is less than 3\n",
      "   animal  age  visits priority\n",
      "a    cat  2.5       1      yes\n",
      "f    cat  2.0       3       no\n"
     ]
    }
   ],
   "source": [
    "print(\"Animal is Cat and age is less than 3\\n\",animals_data[(animals_data.animal=='cat') & (animals_data.age<3)])"
   ]
  },
  {
   "cell_type": "markdown",
   "metadata": {},
   "source": [
    "#### 16. Change the age in row 'f' to 1.5.\n"
   ]
  },
  {
   "cell_type": "code",
   "execution_count": 17,
   "metadata": {},
   "outputs": [
    {
     "name": "stdout",
     "output_type": "stream",
     "text": [
      "Changing age in row f to 1.5\n",
      "   animal  age  visits priority\n",
      "a    cat  2.5       1      yes\n",
      "b    cat  3.0       3      yes\n",
      "c  snake  0.5       2       no\n",
      "d    dog  NaN       3      yes\n",
      "e    dog  5.0       2       no\n",
      "f    cat  1.5       3       no\n",
      "g  snake  4.5       1       no\n",
      "h    cat  NaN       1      yes\n",
      "i    dog  7.0       2       no\n",
      "j    dog  3.0       1       no\n"
     ]
    }
   ],
   "source": [
    "animals_data.loc['f','age']=1.5 \n",
    "print(\"Changing age in row f to 1.5\\n\",animals_data)"
   ]
  },
  {
   "cell_type": "markdown",
   "metadata": {},
   "source": [
    "#### 17. In the 'animal' column, change the 'snake' entries to 'python'.\n"
   ]
  },
  {
   "cell_type": "code",
   "execution_count": 18,
   "metadata": {},
   "outputs": [
    {
     "name": "stdout",
     "output_type": "stream",
     "text": [
      "After changing snake entries to python\n",
      "   animal  age  visits priority\n",
      "a    cat  2.5       1      yes\n",
      "b    cat  3.0       3      yes\n",
      "c  snake  0.5       2       no\n",
      "d    dog  NaN       3      yes\n",
      "e    dog  5.0       2       no\n",
      "f    cat  1.5       3       no\n",
      "g  snake  4.5       1       no\n",
      "h    cat  NaN       1      yes\n",
      "i    dog  7.0       2       no\n",
      "j    dog  3.0       1       no\n"
     ]
    }
   ],
   "source": [
    "animals_data['animal'].replace({\"snake\":\"python\"})\n",
    "print(\"After changing snake entries to python\\n\",animals_data)"
   ]
  },
  {
   "cell_type": "markdown",
   "metadata": {},
   "source": [
    "#### 18. Count the number of each type of animal in df.\n"
   ]
  },
  {
   "cell_type": "code",
   "execution_count": 19,
   "metadata": {},
   "outputs": [
    {
     "name": "stdout",
     "output_type": "stream",
     "text": [
      "Count number of each type of animal\n",
      " snake    2\n",
      "cat      4\n",
      "dog      4\n",
      "Name: animal, dtype: int64\n"
     ]
    }
   ],
   "source": [
    "print(\"Count number of each type of animal\\n\",animals_data['animal'].value_counts(ascending=True))"
   ]
  },
  {
   "cell_type": "markdown",
   "metadata": {},
   "source": [
    "#### 19. The 'priority' column contains the values 'yes' and 'no'. Replace this column with a column of boolean values: 'yes' should be True and 'no' should be False.\n"
   ]
  },
  {
   "cell_type": "code",
   "execution_count": 20,
   "metadata": {},
   "outputs": [
    {
     "name": "stdout",
     "output_type": "stream",
     "text": [
      "After changing priority column Yes to True and No to False\n",
      "   animal  age  visits  priority\n",
      "a    cat  2.5       1      True\n",
      "b    cat  3.0       3      True\n",
      "c  snake  0.5       2     False\n",
      "d    dog  NaN       3      True\n",
      "e    dog  5.0       2     False\n",
      "f    cat  1.5       3     False\n",
      "g  snake  4.5       1     False\n",
      "h    cat  NaN       1      True\n",
      "i    dog  7.0       2     False\n",
      "j    dog  3.0       1     False\n"
     ]
    }
   ],
   "source": [
    "animals_data['priority'].replace({\"yes\":True,\"no\":False},inplace=True)\n",
    "print(\"After changing priority column Yes to True and No to False\\n\",animals_data)"
   ]
  },
  {
   "cell_type": "markdown",
   "metadata": {},
   "source": [
    "#### 20. For each animal type and each number of visits, find the mean age. In other words, each row is an animal, each column is a number of visits and the values are the mean ages (hint: use a pivot table)."
   ]
  },
  {
   "cell_type": "code",
   "execution_count": 21,
   "metadata": {},
   "outputs": [
    {
     "name": "stdout",
     "output_type": "stream",
     "text": [
      "Mean ages : \n",
      "         age           \n",
      "visits    1    2     3\n",
      "animal                \n",
      "cat     2.5  NaN  2.25\n",
      "dog     3.0  6.0   NaN\n",
      "snake   4.5  0.5   NaN\n"
     ]
    }
   ],
   "source": [
    "mean_age = pd.pivot_table(animals_data, values=['age'],index=['animal'],columns=['visits'],aggfunc=np.mean)\n",
    "print(\"Mean ages : \\n\",mean_age)"
   ]
  }
 ],
 "metadata": {
  "kernelspec": {
   "display_name": "Python 3",
   "language": "python",
   "name": "python3"
  },
  "language_info": {
   "codemirror_mode": {
    "name": "ipython",
    "version": 3
   },
   "file_extension": ".py",
   "mimetype": "text/x-python",
   "name": "python",
   "nbconvert_exporter": "python",
   "pygments_lexer": "ipython3",
   "version": "3.7.1"
  }
 },
 "nbformat": 4,
 "nbformat_minor": 2
}
