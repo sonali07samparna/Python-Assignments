{
 "cells": [
  {
   "cell_type": "markdown",
   "metadata": {},
   "source": [
    "#### 1. City = [‘Gurgaon’, ’Mumbai’, ’Bangalore’]\n",
    "#### i) Print the second item from the list.\n",
    "#### ii) Change the value from \"Gurgaon\" to \"Kerala\"\n",
    "#### iii) Remove the last element of the list."
   ]
  },
  {
   "cell_type": "code",
   "execution_count": 1,
   "metadata": {},
   "outputs": [
    {
     "name": "stdout",
     "output_type": "stream",
     "text": [
      "Mumbai\n",
      "['Kerala', 'Mumbai', 'Bangalore']\n",
      "['Kerala', 'Mumbai']\n"
     ]
    }
   ],
   "source": [
    "City = ['Gurgaon' , 'Mumbai' , 'Bangalore']\n",
    "\n",
    "#i) Print the second item from the list.\n",
    "\n",
    "a = City[1]\n",
    "print(a)\n",
    "\n",
    "\n",
    "#ii) Change the value from \"Gurgaon\" to \"Kerala\"\n",
    "\n",
    "City[0] = \"Kerala\" \n",
    "print(City)\n",
    "\n",
    "\n",
    "\n",
    "#iii) Remove the last element of the list.¶\n",
    "City.pop()\n",
    "print(City)\n",
    "\n"
   ]
  },
  {
   "cell_type": "markdown",
   "metadata": {},
   "source": [
    "#### 2. Use negative indexing to print the last item in the list. Make a list by yourself."
   ]
  },
  {
   "cell_type": "code",
   "execution_count": 2,
   "metadata": {},
   "outputs": [
    {
     "data": {
      "text/plain": [
       "2"
      ]
     },
     "execution_count": 2,
     "metadata": {},
     "output_type": "execute_result"
    }
   ],
   "source": [
    "list1 = [1,3,5,6,7,9,8,3,2]\n",
    "list1[-1]"
   ]
  },
  {
   "cell_type": "markdown",
   "metadata": {},
   "source": [
    "#### 3. Use a range of indexes to print the third, fourth, and fifth item in the list. Make a list by yourself."
   ]
  },
  {
   "cell_type": "code",
   "execution_count": 3,
   "metadata": {},
   "outputs": [
    {
     "name": "stdout",
     "output_type": "stream",
     "text": [
      "[5, 6, 7]\n"
     ]
    }
   ],
   "source": [
    "list1 = [1,3,5,6,7,9,8,3,2]\n",
    "print(list1[2:5])"
   ]
  },
  {
   "cell_type": "markdown",
   "metadata": {},
   "source": [
    "#### 4. Remove the last element from the city list"
   ]
  },
  {
   "cell_type": "code",
   "execution_count": 4,
   "metadata": {},
   "outputs": [
    {
     "name": "stdout",
     "output_type": "stream",
     "text": [
      "['Gurgaon', 'Mumbai']\n"
     ]
    }
   ],
   "source": [
    "City = ['Gurgaon' , 'Mumbai' , 'Bangalore']\n",
    "City.pop()\n",
    "print(City)"
   ]
  },
  {
   "cell_type": "markdown",
   "metadata": {},
   "source": [
    "#### 5. fruits=[‘apple’,’lichi’,’guava’,’cherry’,’mango’,’watermelon’,’banana’]\n",
    "#### i) Add \"orange\" at the end of the above list.\n",
    "#### ii) Add \"lemon\" as the second item in the fruits list"
   ]
  },
  {
   "cell_type": "code",
   "execution_count": 5,
   "metadata": {},
   "outputs": [
    {
     "name": "stdout",
     "output_type": "stream",
     "text": [
      "['apple', 'lichi', 'guava', 'cherry', 'mango', 'watermelon', 'banana', 'orange']\n",
      "['apple', 'lemon', 'lichi', 'guava', 'cherry', 'mango', 'watermelon', 'banana', 'orange']\n"
     ]
    }
   ],
   "source": [
    "fruits=['apple','lichi','guava','cherry','mango','watermelon','banana']\n",
    "\n",
    "# i) Add \"orange\" at the end of the above list.\n",
    "fruits.append(\"orange\")\n",
    "print(fruits)\n",
    "\n",
    "# ii) Add \"lemon\" as the second item in the fruits list\n",
    "fruits.insert(1,\"lemon\")\n",
    "print(fruits)"
   ]
  },
  {
   "cell_type": "markdown",
   "metadata": {},
   "source": [
    "#### 6. Remove ‘cherry’ from the fruit list given above."
   ]
  },
  {
   "cell_type": "code",
   "execution_count": 6,
   "metadata": {},
   "outputs": [
    {
     "name": "stdout",
     "output_type": "stream",
     "text": [
      "['apple', 'lemon', 'lichi', 'guava', 'mango', 'watermelon', 'banana', 'orange']\n"
     ]
    }
   ],
   "source": [
    "fruits.remove(\"cherry\")\n",
    "print(fruits)\n"
   ]
  },
  {
   "cell_type": "markdown",
   "metadata": {},
   "source": [
    "#### 7. Write the python program to let the user input a list of numbers and print the list in descending order."
   ]
  },
  {
   "cell_type": "code",
   "execution_count": 1,
   "metadata": {},
   "outputs": [
    {
     "name": "stdout",
     "output_type": "stream",
     "text": [
      "Enter a list of numbers using comma : 0,7,56,4,3,1\n",
      "['0', '7', '56', '4', '3', '1']\n",
      "<class 'list'>\n",
      "[0, 7, 56, 4, 3, 1]\n",
      "<class 'list'>\n",
      "The decending order is : [56, 7, 4, 3, 1, 0]\n"
     ]
    }
   ],
   "source": [
    "number = input(\"Enter a list of numbers using comma : \")\n",
    "number = number.split(\",\")\n",
    "print(number)\n",
    "print(type(number))\n",
    "# To convert all the list of Strings to Integer\n",
    "number1 = list(map(int, number))         \n",
    "print(number1)\n",
    "print(type(number1))\n",
    "decending = sorted(number1,reverse = True)   \n",
    "print(\"The decending order is : \" + str(decending))\n",
    "\n"
   ]
  },
  {
   "cell_type": "markdown",
   "metadata": {},
   "source": [
    "#### 8. Write the python program to let the user input two lists and combine both the lists."
   ]
  },
  {
   "cell_type": "code",
   "execution_count": 30,
   "metadata": {},
   "outputs": [
    {
     "name": "stdout",
     "output_type": "stream",
     "text": [
      "Enter a 1st list of numbers using comma : 1,2,3,4,5\n",
      "Enter a 2nd list of numbers using comma : 6,7,8,9,10\n",
      "['1', '2', '3', '4', '5', '6', '7', '8', '9', '10']\n",
      "==================================================\n",
      "#Method2\n",
      "==================================================\n",
      "['1', '2', '3', '4', '5', '6', '7', '8', '9', '10']\n"
     ]
    }
   ],
   "source": [
    "List2 = input(\"Enter a 1st list of numbers using comma : \")\n",
    "List3 = input(\"Enter a 2nd list of numbers using comma : \")\n",
    "List2 = List2.split(\",\")\n",
    "List3 = List3.split(\",\")\n",
    "Final_List = List2 + List3\n",
    "print(str(Final_List))\n",
    "\n",
    "print(\"=\" * 50)\n",
    "print(\"#Method2\")\n",
    "print(\"=\" * 50)\n",
    "# Method2 using extend() to concat \n",
    "List2.extend(List3)\n",
    "print(List2)"
   ]
  },
  {
   "cell_type": "markdown",
   "metadata": {},
   "source": [
    "#### 9. List = [10, 45, 78, 11, 9, 23]. Shuffle this list."
   ]
  },
  {
   "cell_type": "code",
   "execution_count": 34,
   "metadata": {},
   "outputs": [
    {
     "name": "stdout",
     "output_type": "stream",
     "text": [
      "[23, 10, 9, 45, 11, 78]\n",
      "[78, 45, 10, 11, 9, 23]\n"
     ]
    }
   ],
   "source": [
    "import random     #Importing the random module\n",
    "List4 = [10, 45, 78, 11, 9, 23]\n",
    "random.shuffle(List4)    #1st Shuffle\n",
    "print(List4)\n",
    "\n",
    "random.shuffle(List4)    #2nd Shuffle\n",
    "print(List4)"
   ]
  },
  {
   "cell_type": "markdown",
   "metadata": {},
   "source": [
    "#### 10. x = [10, [3.141, 20, [30, 'baz', 2.718]], 'foo']\n",
    "#### i) What is the expression that returns the 'z' in 'baz'?\n",
    "#### ii) What expression returns the list ['baz', 2.718]?"
   ]
  },
  {
   "cell_type": "code",
   "execution_count": 48,
   "metadata": {},
   "outputs": [
    {
     "data": {
      "text/plain": [
       "['baz', 2.718]"
      ]
     },
     "execution_count": 48,
     "metadata": {},
     "output_type": "execute_result"
    }
   ],
   "source": [
    "x = [10, [3.141, 20, [30, 'baz', 2.718]], 'foo']\n",
    "\n",
    "# i)expression that returns the 'z' in 'baz'?\n",
    "x[1][2][1][2]\n",
    "\n",
    "# ii)expression returns the list ['baz', 2.718]?\n",
    "x[1][2][1:3]\n"
   ]
  },
  {
   "cell_type": "markdown",
   "metadata": {},
   "source": [
    "#### 11. Extract element 20 from the above list."
   ]
  },
  {
   "cell_type": "code",
   "execution_count": 49,
   "metadata": {},
   "outputs": [
    {
     "data": {
      "text/plain": [
       "20"
      ]
     },
     "execution_count": 49,
     "metadata": {},
     "output_type": "execute_result"
    }
   ],
   "source": [
    "x = [10, [3.141, 20, [30, 'baz', 2.718]], 'foo']\n",
    "\n",
    "x[1][1]"
   ]
  },
  {
   "cell_type": "markdown",
   "metadata": {},
   "source": [
    "## 12. You have a list a = [1, 2, 7, 8]\n",
    "#### Write a Python statement using slice assignment that will fill in the missing values so that a \n",
    "#### equals [1, 2, 3, 4, 5, 6, 7, 8]"
   ]
  },
  {
   "cell_type": "code",
   "execution_count": 73,
   "metadata": {},
   "outputs": [
    {
     "name": "stdout",
     "output_type": "stream",
     "text": [
      "[1, 2]\n",
      "[7, 8]\n",
      "[1, 2, 3, 4, 5, 6, 7, 8]\n"
     ]
    }
   ],
   "source": [
    "a = [1, 2, 7, 8]\n",
    "a1 = a[0:2]        #slicing first 2\n",
    "print(a1)\n",
    "a2 = a[2:4]        #Slicing last 2\n",
    "print(a2)\n",
    "\n",
    "a3 = [3,4,5,6]     #declaring the missing values\n",
    "\n",
    "a = a1 + a3 + a2   #Concatinating the values to get the final lis\n",
    "print(a)"
   ]
  },
  {
   "cell_type": "code",
   "execution_count": null,
   "metadata": {},
   "outputs": [],
   "source": []
  }
 ],
 "metadata": {
  "kernelspec": {
   "display_name": "Python 3",
   "language": "python",
   "name": "python3"
  },
  "language_info": {
   "codemirror_mode": {
    "name": "ipython",
    "version": 3
   },
   "file_extension": ".py",
   "mimetype": "text/x-python",
   "name": "python",
   "nbconvert_exporter": "python",
   "pygments_lexer": "ipython3",
   "version": "3.7.1"
  }
 },
 "nbformat": 4,
 "nbformat_minor": 2
}
