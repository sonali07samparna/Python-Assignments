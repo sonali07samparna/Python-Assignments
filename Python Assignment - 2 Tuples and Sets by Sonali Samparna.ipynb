{
 "cells": [
  {
   "cell_type": "markdown",
   "metadata": {},
   "source": [
    "#### 1. Write a Python program to add an item in a tuple."
   ]
  },
  {
   "cell_type": "code",
   "execution_count": 8,
   "metadata": {},
   "outputs": [
    {
     "name": "stdout",
     "output_type": "stream",
     "text": [
      "(1, 2, 3, 'sonali', 3.4, 'datafolkz')\n",
      "<class 'tuple'>\n",
      "[1, 2, 3, 'sonali', 3.4, 'datafolkz']\n",
      "<class 'list'>\n",
      "[1, 2, 3, 'sonali', 3.4, 'datafolkz', 'AI']\n",
      "(1, 2, 3, 'sonali', 3.4, 'datafolkz', 'AI')\n"
     ]
    }
   ],
   "source": [
    "tuple1 = 1,2,3,'sonali',3.4,'datafolkz'\n",
    "print(tuple1)\n",
    "print(type(tuple1))\n",
    "\n",
    "list1 = list(tuple1)    #Converting tuple to list\n",
    "print(list1)\n",
    "print(type(list1))     \n",
    "list1.append(\"AI\")      #add/appending item 'AI' to the list\n",
    "print(list1)\n",
    "\n",
    "tuple1 = tuple(list1)   #Coverting the final list to tuple again\n",
    "print(tuple1)\n"
   ]
  },
  {
   "cell_type": "markdown",
   "metadata": {},
   "source": [
    "#### 2. Write a Python program to reverse a tuple."
   ]
  },
  {
   "cell_type": "code",
   "execution_count": 23,
   "metadata": {},
   "outputs": [
    {
     "name": "stdout",
     "output_type": "stream",
     "text": [
      "('c', 'b', 'a', 6, 5, 4, 3, 2, 1)\n",
      "('d', 'c', 'b', 'a', 6, 5, 4, 3, 2, 1)\n"
     ]
    }
   ],
   "source": [
    "tuple2 = 1,2,3,4,5,6,'a','b','c'\n",
    "#Method1\n",
    "x = reversed(tuple2)        \n",
    "print(tuple(x))\n",
    "\n",
    "#Method 2\n",
    "tuple3 = 1,2,3,4,5,6,'a','b','c','d'\n",
    "tuple3 = tuple3[::-1]\n",
    "print(tuple3)"
   ]
  },
  {
   "cell_type": "markdown",
   "metadata": {},
   "source": [
    "#### 3. Swap the following two tuples\n",
    "#### tuple1 = (11, 22)\n",
    "#### tuple2 = (99, 88)"
   ]
  },
  {
   "cell_type": "code",
   "execution_count": 29,
   "metadata": {},
   "outputs": [
    {
     "name": "stdout",
     "output_type": "stream",
     "text": [
      "tuple1 is : (99, 88)\n",
      "tuple2 is : (11, 22)\n"
     ]
    }
   ],
   "source": [
    "tuple1 = (11, 22)\n",
    "tuple2 = (99, 88)\n",
    "\n",
    "tuple1, tuple2 = tuple2, tuple1\n",
    "print('tuple1 is : ' + str(tuple1))\n",
    "print('tuple2 is : ' + str(tuple2))\n",
    "\n"
   ]
  },
  {
   "cell_type": "markdown",
   "metadata": {},
   "source": [
    "#### 4. Modify the first item (22) of a list inside a following tuple to 222\n",
    "#### tuple1 = (11, [22, 33], 44, 55)"
   ]
  },
  {
   "cell_type": "code",
   "execution_count": 31,
   "metadata": {},
   "outputs": [
    {
     "name": "stdout",
     "output_type": "stream",
     "text": [
      "(11, [222, 33], 44, 55)\n"
     ]
    }
   ],
   "source": [
    "tuple1 = (11, [22, 33], 44, 55)\n",
    "\n",
    "tuple1[1][0] = 222\n",
    "print(tuple1)"
   ]
  },
  {
   "cell_type": "markdown",
   "metadata": {},
   "source": [
    "#### 5. Write a Python program to unpack a tuple in several variables"
   ]
  },
  {
   "cell_type": "code",
   "execution_count": 33,
   "metadata": {},
   "outputs": [
    {
     "name": "stdout",
     "output_type": "stream",
     "text": [
      "1\n",
      "2\n",
      "4\n",
      "7.8\n",
      "9.7\n",
      "datafolkz\n"
     ]
    }
   ],
   "source": [
    "tuple4 = 1,2,3,4,7.8,9.7,'datafolkz'\n",
    "print(tuple4[0])\n",
    "print(tuple4[1])\n",
    "print(tuple4[3])\n",
    "print(tuple4[4])\n",
    "print(tuple4[5])\n",
    "print(tuple4[6])"
   ]
  },
  {
   "cell_type": "markdown",
   "metadata": {},
   "source": [
    "#### 6. Write a Python program to add member(s) in an empty set."
   ]
  },
  {
   "cell_type": "code",
   "execution_count": 45,
   "metadata": {},
   "outputs": [
    {
     "name": "stdout",
     "output_type": "stream",
     "text": [
      "set()\n",
      "{'apple'}\n",
      "{'orange', 'grapes', 'bananana', 'apple'}\n"
     ]
    }
   ],
   "source": [
    "fruits = set()\n",
    "print(fruits)\n",
    "fruits.add('apple')\n",
    "print(fruits)\n",
    "fruits.update(['orange','grapes','bananana'])\n",
    "print(fruits)"
   ]
  },
  {
   "cell_type": "markdown",
   "metadata": {},
   "source": [
    "#### 7. Write a Python program to create an intersection of sets"
   ]
  },
  {
   "cell_type": "code",
   "execution_count": 50,
   "metadata": {},
   "outputs": [
    {
     "name": "stdout",
     "output_type": "stream",
     "text": [
      "{False, 1, 2, 5, 10, 80, 55, 60}\n",
      "{1, 'Innomatics', 3, 2, 'Technology'}\n"
     ]
    },
    {
     "data": {
      "text/plain": [
       "{1, 2}"
      ]
     },
     "execution_count": 50,
     "metadata": {},
     "output_type": "execute_result"
    }
   ],
   "source": [
    "A = {1,1,1,2,2,5,10,5,80,80,55,55,60,True, False,0}\n",
    "B = {'Innomatics','Technology',1,2,3,3}\n",
    "print(A)\n",
    "print(B)\n",
    "A.intersection(B)"
   ]
  },
  {
   "cell_type": "markdown",
   "metadata": {},
   "source": [
    "#### 8. Write a Python program to create a symmetric difference in sets."
   ]
  },
  {
   "cell_type": "code",
   "execution_count": 51,
   "metadata": {},
   "outputs": [
    {
     "data": {
      "text/plain": [
       "{10, 3, 5, 55, 60, 80, False, 'Innomatics', 'Technology'}"
      ]
     },
     "execution_count": 51,
     "metadata": {},
     "output_type": "execute_result"
    }
   ],
   "source": [
    "A = {1,1,1,2,2,5,10,5,80,80,55,55,60,True, False,0}\n",
    "B = {'Innomatics','Technology',1,2,3,3}\n",
    "\n",
    "A.symmetric_difference(B)"
   ]
  },
  {
   "cell_type": "markdown",
   "metadata": {},
   "source": [
    "#### 9. Return a set of identical items from a given two Python set\n",
    "#### set1 = [10, 20, 30, 40, 50]\n",
    "#### set2 = [30, 40, 50, 60, 70]"
   ]
  },
  {
   "cell_type": "code",
   "execution_count": 64,
   "metadata": {},
   "outputs": [
    {
     "data": {
      "text/plain": [
       "{30, 40, 50}"
      ]
     },
     "execution_count": 64,
     "metadata": {},
     "output_type": "execute_result"
    }
   ],
   "source": [
    "set1 = {10, 20, 30, 40, 50}\n",
    "set2 = {30, 40, 50, 60, 70}\n",
    "set1.intersection(set2)\n"
   ]
  },
  {
   "cell_type": "markdown",
   "metadata": {},
   "source": [
    "#### 10. Remove 10, 20, 30 elements from a following set at once\n",
    "#### set1 = {10, 20, 30, 40, 50}"
   ]
  },
  {
   "cell_type": "code",
   "execution_count": 67,
   "metadata": {},
   "outputs": [
    {
     "name": "stdout",
     "output_type": "stream",
     "text": [
      "{40, 50}\n"
     ]
    }
   ],
   "source": [
    "set1 = {10, 20, 30, 40, 50}\n",
    "set1.difference_update({10,20,30})\n",
    "print(set1)"
   ]
  },
  {
   "cell_type": "markdown",
   "metadata": {},
   "source": [
    "#### 11. Access value 20 from the following tuple example = (\"Pooja\", [10, 20, 30], (25, 50, 15))"
   ]
  },
  {
   "cell_type": "code",
   "execution_count": 68,
   "metadata": {},
   "outputs": [
    {
     "data": {
      "text/plain": [
       "20"
      ]
     },
     "execution_count": 68,
     "metadata": {},
     "output_type": "execute_result"
    }
   ],
   "source": [
    "tuple5 = (\"Pooja\", [10, 20, 30], (25, 50, 15))\n",
    "tuple5[1][1]"
   ]
  },
  {
   "cell_type": "markdown",
   "metadata": {},
   "source": [
    "#### 12. Count the number of occurrences of item 50 from a tuple\n",
    "#### numbers = (50, 10, 60, 70, 50)"
   ]
  },
  {
   "cell_type": "code",
   "execution_count": 69,
   "metadata": {},
   "outputs": [
    {
     "data": {
      "text/plain": [
       "2"
      ]
     },
     "execution_count": 69,
     "metadata": {},
     "output_type": "execute_result"
    }
   ],
   "source": [
    "numbers = (50, 10, 60, 70, 50)\n",
    "numbers.count(50)"
   ]
  },
  {
   "cell_type": "code",
   "execution_count": null,
   "metadata": {},
   "outputs": [],
   "source": []
  }
 ],
 "metadata": {
  "kernelspec": {
   "display_name": "Python 3",
   "language": "python",
   "name": "python3"
  },
  "language_info": {
   "codemirror_mode": {
    "name": "ipython",
    "version": 3
   },
   "file_extension": ".py",
   "mimetype": "text/x-python",
   "name": "python",
   "nbconvert_exporter": "python",
   "pygments_lexer": "ipython3",
   "version": "3.7.1"
  }
 },
 "nbformat": 4,
 "nbformat_minor": 2
}
