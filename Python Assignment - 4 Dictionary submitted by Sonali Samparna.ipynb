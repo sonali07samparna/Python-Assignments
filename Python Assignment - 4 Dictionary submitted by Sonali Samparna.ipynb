{
 "cells": [
  {
   "cell_type": "markdown",
   "metadata": {},
   "source": [
    ">#### Given a dictionary:\n",
    ">#### car = {\"brand\": \"Ford”, “model\":\"Mustang\",\"year\":1964}"
   ]
  },
  {
   "cell_type": "markdown",
   "metadata": {},
   "source": [
    "#### 1. Print the value of the \"model\" key of the car dictionary.\n"
   ]
  },
  {
   "cell_type": "code",
   "execution_count": 1,
   "metadata": {},
   "outputs": [
    {
     "data": {
      "text/plain": [
       "'Mustang'"
      ]
     },
     "execution_count": 1,
     "metadata": {},
     "output_type": "execute_result"
    }
   ],
   "source": [
    "car = {\"brand\" : \"Ford\", \"model\" : \"Mustang\",\"year\" : 1964}\n",
    "\n",
    "car['model']"
   ]
  },
  {
   "cell_type": "markdown",
   "metadata": {},
   "source": [
    "\n",
    "#### 2. Change the \"year\" value from 1964 to 2020.\n"
   ]
  },
  {
   "cell_type": "code",
   "execution_count": 2,
   "metadata": {},
   "outputs": [
    {
     "data": {
      "text/plain": [
       "{'brand': 'Ford', 'model': 'Mustang', 'year': 2020}"
      ]
     },
     "execution_count": 2,
     "metadata": {},
     "output_type": "execute_result"
    }
   ],
   "source": [
    "car['year'] = 2020\n",
    "car"
   ]
  },
  {
   "cell_type": "markdown",
   "metadata": {},
   "source": [
    "\n",
    "#### 3. Add the key/value pair \"colour”: \"red\" to the car dictionary"
   ]
  },
  {
   "cell_type": "code",
   "execution_count": 3,
   "metadata": {},
   "outputs": [
    {
     "data": {
      "text/plain": [
       "{'brand': 'Ford', 'model': 'Mustang', 'year': 2020, 'colour': 'red'}"
      ]
     },
     "execution_count": 3,
     "metadata": {},
     "output_type": "execute_result"
    }
   ],
   "source": [
    "car[\"colour\"] = 'red'\n",
    "car"
   ]
  },
  {
   "cell_type": "markdown",
   "metadata": {},
   "source": [
    ">#### Given a dictionary inventory :\n",
    ">#### inventory = {'gold' : 500, 'pouch' : ['flint', 'twine', 'gemstone'],\n",
    ">#### 'backpack' : ['xylophone’, ‘dagger', 'bedroll’, ‘bread’, ‘loaf']}"
   ]
  },
  {
   "cell_type": "markdown",
   "metadata": {},
   "source": [
    "#### 4. Add a key to inventory called 'pocket' and Set the value of 'pocket' to be a list consisting of the strings 'seashell', 'strange berry', and 'lint'."
   ]
  },
  {
   "cell_type": "code",
   "execution_count": 4,
   "metadata": {},
   "outputs": [
    {
     "data": {
      "text/plain": [
       "{'gold': 500,\n",
       " 'pouch': ['flint', 'twine', 'gemstone'],\n",
       " 'backpack': ['xylophone', 'dagger', 'bedroll', 'bread', 'loaf'],\n",
       " 'pocket': ['seashell', 'stange berry', 'lint']}"
      ]
     },
     "execution_count": 4,
     "metadata": {},
     "output_type": "execute_result"
    }
   ],
   "source": [
    "inventory = {'gold' : 500, 'pouch' : ['flint', 'twine', 'gemstone'],\n",
    "             'backpack' : ['xylophone', 'dagger', 'bedroll', 'bread', 'loaf']}\n",
    "inventory['pocket'] = ['seashell','stange berry','lint']\n",
    "inventory"
   ]
  },
  {
   "cell_type": "markdown",
   "metadata": {},
   "source": [
    "#### 5. Sort the items in the list stored under the 'backpack' key.\n",
    "\n"
   ]
  },
  {
   "cell_type": "code",
   "execution_count": 5,
   "metadata": {},
   "outputs": [
    {
     "data": {
      "text/plain": [
       "{'gold': 500,\n",
       " 'pouch': ['flint', 'twine', 'gemstone'],\n",
       " 'backpack': ['bedroll', 'bread', 'dagger', 'loaf', 'xylophone'],\n",
       " 'pocket': ['seashell', 'stange berry', 'lint']}"
      ]
     },
     "execution_count": 5,
     "metadata": {},
     "output_type": "execute_result"
    }
   ],
   "source": [
    "inventory['backpack'].sort()\n",
    "inventory"
   ]
  },
  {
   "cell_type": "markdown",
   "metadata": {},
   "source": [
    "#### 6. Remove 'dagger' from the list of items stored under the 'backpack' key."
   ]
  },
  {
   "cell_type": "code",
   "execution_count": 6,
   "metadata": {},
   "outputs": [
    {
     "data": {
      "text/plain": [
       "{'gold': 500,\n",
       " 'pouch': ['flint', 'twine', 'gemstone'],\n",
       " 'backpack': ['bedroll', 'bread', 'loaf', 'xylophone'],\n",
       " 'pocket': ['seashell', 'stange berry', 'lint']}"
      ]
     },
     "execution_count": 6,
     "metadata": {},
     "output_type": "execute_result"
    }
   ],
   "source": [
    "inventory['backpack'].remove('dagger')\n",
    "inventory"
   ]
  },
  {
   "cell_type": "markdown",
   "metadata": {},
   "source": [
    "#### 7. Add 50 to the number stored under the 'gold' key."
   ]
  },
  {
   "cell_type": "code",
   "execution_count": 7,
   "metadata": {},
   "outputs": [
    {
     "data": {
      "text/plain": [
       "{'gold': 550,\n",
       " 'pouch': ['flint', 'twine', 'gemstone'],\n",
       " 'backpack': ['bedroll', 'bread', 'loaf', 'xylophone'],\n",
       " 'pocket': ['seashell', 'stange berry', 'lint']}"
      ]
     },
     "execution_count": 7,
     "metadata": {},
     "output_type": "execute_result"
    }
   ],
   "source": [
    "inventory['gold'] += 50\n",
    "inventory"
   ]
  },
  {
   "cell_type": "markdown",
   "metadata": {},
   "source": [
    "\n",
    "#### 8. Write a Python script to concatenate three dictionaries to create a new one. Make dictionaries yourself."
   ]
  },
  {
   "cell_type": "code",
   "execution_count": 31,
   "metadata": {},
   "outputs": [
    {
     "name": "stdout",
     "output_type": "stream",
     "text": [
      "{'name': 'sonali', 'Math': [95, 98, 79, 82], 'science': [98, 40, 94], 'english': [65, 90]}\n",
      "{'name2': 'tania', 'Math2': [100, 92, 98, 100], 'science2': [82, 83, 91], 'english2': [89, 97]}\n",
      "{'name3': 'richa', 'Math3': [60, 87, 75, 22], 'science3': [0, 75, 78], 'english3': [100, 100]}\n",
      "====================================================================================================\n",
      "The concatenation of the 3 dictionary is : {'name': 'sonali', 'Math': [95, 98, 79, 82], 'science': [98, 40, 94], 'english': [65, 90], 'name2': 'tania', 'Math2': [100, 92, 98, 100], 'science2': [82, 83, 91], 'english2': [89, 97], 'name3': 'richa', 'Math3': [60, 87, 75, 22], 'science3': [0, 75, 78], 'english3': [100, 100]}\n"
     ]
    }
   ],
   "source": [
    "student1 = {\"name\": \"sonali\",\n",
    "  \"Math\": [95,98,79,82],\n",
    "  \"science\": [98,40,94],\n",
    "  \"english\": [65,90]}\n",
    "\n",
    "student2 = {\"name2\": \"tania\",\n",
    "  \"Math2\": [100, 92, 98, 100],\n",
    "  \"science2\": [82, 83, 91],\n",
    "  \"english2\": [89, 97]}\n",
    "\n",
    "student3 = {\"name3\": \"richa\",\n",
    "  \"Math3\": [60, 87, 75, 22],\n",
    "  \"science3\": [0, 75, 78],\n",
    "  \"english3\": [100, 100]}\n",
    "\n",
    "print(student1)\n",
    "print(student2)\n",
    "print(student3)\n",
    "\n",
    "student1.update(student2)\n",
    "student1.update(student3)\n",
    "print(\"=\"*100)\n",
    "print(\"The concatenation of the 3 dictionary is : \" + str(student1))\n"
   ]
  },
  {
   "cell_type": "markdown",
   "metadata": {},
   "source": [
    "#### 9. Write a Python program to sum all the items in a dictionary."
   ]
  },
  {
   "cell_type": "code",
   "execution_count": 35,
   "metadata": {},
   "outputs": [
    {
     "name": "stdout",
     "output_type": "stream",
     "text": [
      "338\n"
     ]
    }
   ],
   "source": [
    "dict1 = {'Mark1':100,'Mark2':70,'Mark3':90,'Mark4': 78}\n",
    "print(sum(dict1.values()))"
   ]
  },
  {
   "cell_type": "markdown",
   "metadata": {},
   "source": [
    "#### 10. Write a Python script to check whether a given key already exists in a dictionary.\n",
    ">#### d = {'foo': 100, 'bar': 200, 'baz': 300}\n",
    "\n"
   ]
  },
  {
   "cell_type": "code",
   "execution_count": 5,
   "metadata": {},
   "outputs": [
    {
     "name": "stdout",
     "output_type": "stream",
     "text": [
      "The key exist\n"
     ]
    }
   ],
   "source": [
    "d = {'foo': 100, 'bar': 200, 'baz': 300}\n",
    "if 'foo' in d:              #Checking if key \"foo\" exist in the dictionary or not\n",
    "    print(\"The key exist\")\n",
    "else:\n",
    "    print(\"The key does't exist\")\n"
   ]
  },
  {
   "cell_type": "markdown",
   "metadata": {},
   "source": [
    "#### 11. What method call will delete the entry whose value is 200?"
   ]
  },
  {
   "cell_type": "code",
   "execution_count": 9,
   "metadata": {},
   "outputs": [
    {
     "name": "stdout",
     "output_type": "stream",
     "text": [
      "{'foo': 100, 'baz': 300}\n"
     ]
    }
   ],
   "source": [
    "d = {'foo': 100, 'bar': 200, 'baz': 300}\n",
    "del d[\"bar\"]      #Deleting the key \"bar\"\n",
    "print(d)"
   ]
  },
  {
   "cell_type": "markdown",
   "metadata": {},
   "source": [
    "#### 12. Write a Python program to check multiple keys exists in a dictionary."
   ]
  },
  {
   "cell_type": "code",
   "execution_count": 21,
   "metadata": {},
   "outputs": [
    {
     "name": "stdout",
     "output_type": "stream",
     "text": [
      "Keys are there\n"
     ]
    }
   ],
   "source": [
    "dict4 = {\"Player\" : \"Virat\",\"runs\" : \"300\",\"Age\":\"32\"}\n",
    "\n",
    "check_keys = {\"Player\" ,\"Age\"}   #Checking this key\n",
    "\n",
    "\n",
    "if (dict4.keys()) >= check_keys:\n",
    "    print(\"Keys are there\")\n",
    "else:\n",
    "    print(\"Keys not present\")\n"
   ]
  }
 ],
 "metadata": {
  "kernelspec": {
   "display_name": "Python 3",
   "language": "python",
   "name": "python3"
  },
  "language_info": {
   "codemirror_mode": {
    "name": "ipython",
    "version": 3
   },
   "file_extension": ".py",
   "mimetype": "text/x-python",
   "name": "python",
   "nbconvert_exporter": "python",
   "pygments_lexer": "ipython3",
   "version": "3.7.1"
  }
 },
 "nbformat": 4,
 "nbformat_minor": 2
}
