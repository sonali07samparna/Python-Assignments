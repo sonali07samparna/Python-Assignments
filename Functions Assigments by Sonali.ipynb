{
 "cells": [
  {
   "cell_type": "markdown",
   "metadata": {},
   "source": [
    "#### 1. Write a Python function that accepts a string and calculates the number of uppercase letters and lowercase letters.\n"
   ]
  },
  {
   "cell_type": "code",
   "execution_count": 153,
   "metadata": {},
   "outputs": [
    {
     "name": "stdout",
     "output_type": "stream",
     "text": [
      "Enter String : Hi SONALI,how are you\n"
     ]
    },
    {
     "data": {
      "text/plain": [
       "(7, 10)"
      ]
     },
     "execution_count": 153,
     "metadata": {},
     "output_type": "execute_result"
    }
   ],
   "source": [
    "string = input (\"Enter String : \")\n",
    "def up_low(string):\n",
    "    uppers = 0\n",
    "    lowers = 0\n",
    "    for a in string:\n",
    "        if a.islower():\n",
    "            lowers += 1\n",
    "        elif a.isupper():\n",
    "            uppers += 1\n",
    "        else:\n",
    "            pass\n",
    "    return(uppers,lowers)\n",
    " \n",
    "\n",
    "# print(\"number of upper case letter\" ,uppers)\n",
    "# print(\"number of lower case letter\",lowers)\n",
    "up_low(string)"
   ]
  },
  {
   "cell_type": "markdown",
   "metadata": {},
   "source": [
    "#### 2. Write a Python function to create and print a list where the values are squares of numbers between 1 and 30 (both included).\n"
   ]
  },
  {
   "cell_type": "code",
   "execution_count": 53,
   "metadata": {},
   "outputs": [
    {
     "name": "stdout",
     "output_type": "stream",
     "text": [
      "[1, 4, 9, 16, 25, 36, 49, 64, 81, 100, 121, 144, 169, 196, 225, 256, 289, 324, 361, 400, 441, 484, 529, 576, 625, 676, 729, 784, 841, 900]\n"
     ]
    }
   ],
   "source": [
    "def sqr():\n",
    "    l = list()\n",
    "    for i in range(1,31):\n",
    "        l.append(i**2)\n",
    "    print(l)\n",
    "sqr()"
   ]
  },
  {
   "cell_type": "markdown",
   "metadata": {},
   "source": [
    "#### 3.Create a function that counts the number of elements within a list that are greater than 30.\n"
   ]
  },
  {
   "cell_type": "code",
   "execution_count": 72,
   "metadata": {},
   "outputs": [
    {
     "name": "stdout",
     "output_type": "stream",
     "text": [
      "The list : [34, 56, 78, 2, 3, 5, 6, 8, 45, 6]\n",
      "Count gretaer than 30 is : 0\n"
     ]
    },
    {
     "data": {
      "text/plain": [
       "4"
      ]
     },
     "execution_count": 72,
     "metadata": {},
     "output_type": "execute_result"
    }
   ],
   "source": [
    "l = [34,56,78,2,3,5,6,8,45,6]\n",
    "print (\"The list : \" + str(l)) \n",
    "def count_greater30(l):\n",
    "    count = 0\n",
    "    for i in l:\n",
    "        if i > 30:\n",
    "            count = count + 1\n",
    "    return count\n",
    "print(\"Count gretaer than 30 is : \" + str(count))\n",
    "count_greater30(l)"
   ]
  },
  {
   "cell_type": "markdown",
   "metadata": {},
   "source": [
    "#### 4. Write a Python function that takes a list and returns a new list with unique elements of the first list.\n"
   ]
  },
  {
   "cell_type": "code",
   "execution_count": 85,
   "metadata": {},
   "outputs": [
    {
     "name": "stdout",
     "output_type": "stream",
     "text": [
      "The list is : [34, 56, 78, 2, 3, 2, 6, 34, 5, 6, 8, 45, 6]\n",
      "[34, 56, 78, 2, 3, 6, 5, 8, 45]\n"
     ]
    }
   ],
   "source": [
    "list2 = [34,56,78,2,3,2,6,34,5,6,8,45,6]\n",
    "print(\"The list is : \" + str(list2))\n",
    "def unique_list(list2):\n",
    "    list3 = []\n",
    "    for i in list2:\n",
    "        if i not in list3:\n",
    "            list3.append(i)\n",
    "    return(list3)\n",
    "print(unique_list(list2))"
   ]
  },
  {
   "cell_type": "markdown",
   "metadata": {},
   "source": [
    "#### 5. Create a function showEmployee() in such a way that it should accept employee name, and it’s salary and display both, and if the salary is missing in function call it should show it as 9000\n"
   ]
  },
  {
   "cell_type": "code",
   "execution_count": 91,
   "metadata": {},
   "outputs": [
    {
     "name": "stdout",
     "output_type": "stream",
     "text": [
      "Sonali 9000\n",
      "Sonali 85000\n"
     ]
    }
   ],
   "source": [
    "def showEmployee(employee_name,salary = 9000):\n",
    "    print(employee_name,salary)\n",
    "    \n",
    "employee_name = 'Sonali'\n",
    "salary = 85000\n",
    "\n",
    "showEmployee(employee_name)\n",
    "showEmployee(employee_name, salary)\n",
    "    "
   ]
  },
  {
   "cell_type": "markdown",
   "metadata": {},
   "source": [
    "#### 6. Write a Python program to count the even, odd numbers in a given array of integers using Lambda.\n"
   ]
  },
  {
   "cell_type": "code",
   "execution_count": 100,
   "metadata": {},
   "outputs": [
    {
     "name": "stdout",
     "output_type": "stream",
     "text": [
      "Array is : [1, 2, 3, 4, 5, 7, 8, 9, 33, 42]\n",
      "No of even no in the array :  4\n",
      "No of odd no in the array :  6\n"
     ]
    }
   ],
   "source": [
    "array1 = [1,2,3,4,5,7,8,9,33,42]\n",
    "print(\"Array is : \" + str(array1))\n",
    "\n",
    "even = len(list(filter(lambda x : (x % 2 == 0), array1)))\n",
    "odd = len(list(filter(lambda x : (x % 2 != 0), array1)))\n",
    "print(\"No of even no in the array : \", even)\n",
    "print(\"No of odd no in the array : \" ,odd)"
   ]
  },
  {
   "cell_type": "markdown",
   "metadata": {},
   "source": [
    "#### 7. Write a Python program to add two given lists using map and lambda\n",
    "\n"
   ]
  },
  {
   "cell_type": "code",
   "execution_count": 112,
   "metadata": {},
   "outputs": [
    {
     "name": "stdout",
     "output_type": "stream",
     "text": [
      "1st list [4, 5, 6] 2nd list [6, 9, 4]\n",
      "addition of both the list is :  [10, 14, 10]\n"
     ]
    }
   ],
   "source": [
    "l1 = [4,5,6]\n",
    "l2 = [6,9,4]\n",
    "print(\"1st list\", l1,\"2nd list\", l2)\n",
    "add = map(lambda x,y : (x + y),l1,l2)\n",
    "print(\"addition of both the list is : \", list(add))"
   ]
  },
  {
   "cell_type": "markdown",
   "metadata": {},
   "source": [
    "#### 8. Write a Python program to rearrange positive and negative numbers in a given array using Lambda and filter\n"
   ]
  },
  {
   "cell_type": "code",
   "execution_count": 123,
   "metadata": {},
   "outputs": [
    {
     "name": "stdout",
     "output_type": "stream",
     "text": [
      "[-1, -4, -6, -9, 4, 5, 6]\n"
     ]
    }
   ],
   "source": [
    "array2 = [-1,-4,-6,-9,4,5,6]\n",
    "rearrange_numbers =  [x for x in array2 if x < 0] + [x for x in array2 if x >= 0]\n",
    "print(rearrange_numbers)"
   ]
  },
  {
   "cell_type": "markdown",
   "metadata": {},
   "source": [
    "#### 9. Write a Python program to filter a list of integers using Lambda.\n"
   ]
  },
  {
   "cell_type": "code",
   "execution_count": 125,
   "metadata": {},
   "outputs": [
    {
     "name": "stdout",
     "output_type": "stream",
     "text": [
      "Array is : [1, 2, 3, 4, 5, 7, 8, 9, 33, 42]\n",
      "No of even no in the array :  [2, 4, 8, 42]\n",
      "No of odd no in the array :  [1, 3, 5, 7, 9, 33]\n"
     ]
    }
   ],
   "source": [
    "array1 = [1,2,3,4,5,7,8,9,33,42]\n",
    "print(\"Array is : \" + str(array1))\n",
    "\n",
    "even = list(filter(lambda x : (x % 2 == 0), array1))\n",
    "odd = list(filter(lambda x : (x % 2 != 0), array1))\n",
    "print(\"No of even no in the array : \", even)\n",
    "print(\"No of odd no in the array : \" ,odd)"
   ]
  },
  {
   "cell_type": "markdown",
   "metadata": {},
   "source": [
    "#### 10. Write a Python program to find the intersection of two given arrays using Lambda and filter."
   ]
  },
  {
   "cell_type": "code",
   "execution_count": 126,
   "metadata": {},
   "outputs": [
    {
     "name": "stdout",
     "output_type": "stream",
     "text": [
      "Original arrays:\n",
      "[1, 2, 3, 5, 7, 8, 9, 10]\n",
      "[1, 2, 4, 8, 9]\n",
      "Intersection of the said arrays:  [1, 2, 8, 9]\n"
     ]
    }
   ],
   "source": [
    "array1 = [1, 2, 3, 5, 7, 8, 9, 10]\n",
    "array2 = [1, 2, 4, 8, 9]\n",
    "print(\"Original arrays:\")\n",
    "print(array1)\n",
    "print(array2)\n",
    "result = list(filter(lambda x: x in array1, array2)) \n",
    "print (\"Intersection of the said arrays: \",result)"
   ]
  }
 ],
 "metadata": {
  "kernelspec": {
   "display_name": "Python 3",
   "language": "python",
   "name": "python3"
  },
  "language_info": {
   "codemirror_mode": {
    "name": "ipython",
    "version": 3
   },
   "file_extension": ".py",
   "mimetype": "text/x-python",
   "name": "python",
   "nbconvert_exporter": "python",
   "pygments_lexer": "ipython3",
   "version": "3.7.1"
  }
 },
 "nbformat": 4,
 "nbformat_minor": 2
}
