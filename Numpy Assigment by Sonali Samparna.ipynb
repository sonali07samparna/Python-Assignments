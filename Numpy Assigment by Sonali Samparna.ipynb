{
 "cells": [
  {
   "cell_type": "markdown",
   "metadata": {},
   "source": [
    "### 1. Create a 5X2 integer array from a range between 100 to 200 such that the difference between each element is 10."
   ]
  },
  {
   "cell_type": "code",
   "execution_count": 1,
   "metadata": {},
   "outputs": [],
   "source": [
    "import numpy as np"
   ]
  },
  {
   "cell_type": "code",
   "execution_count": 26,
   "metadata": {},
   "outputs": [
    {
     "data": {
      "text/plain": [
       "array([100, 110, 120, 130, 140, 150, 160, 170, 180, 190])"
      ]
     },
     "execution_count": 26,
     "metadata": {},
     "output_type": "execute_result"
    }
   ],
   "source": [
    "arr1 = np.arange(100,200,10)\n",
    "arr1"
   ]
  },
  {
   "cell_type": "markdown",
   "metadata": {},
   "source": [
    "### 2. Write a NumPy program to create a 3x3x3 array filled with arbitrary values and find the minimum and maximum values."
   ]
  },
  {
   "cell_type": "code",
   "execution_count": 3,
   "metadata": {},
   "outputs": [
    {
     "data": {
      "text/plain": [
       "array([[ 0, 75, 99],\n",
       "       [ 6, 87, 70],\n",
       "       [98, 53, 77]])"
      ]
     },
     "execution_count": 3,
     "metadata": {},
     "output_type": "execute_result"
    }
   ],
   "source": [
    "arr2 = np.random.randint(0,100, size = (3,3))\n",
    "arr2"
   ]
  },
  {
   "cell_type": "code",
   "execution_count": 4,
   "metadata": {},
   "outputs": [
    {
     "name": "stdout",
     "output_type": "stream",
     "text": [
      "Minimum value is:  0\n",
      "Maximum value is:  99\n"
     ]
    }
   ],
   "source": [
    "print('Minimum value is: ', np.min(arr2))\n",
    "print('Maximum value is: ', np.max(arr2))"
   ]
  },
  {
   "cell_type": "markdown",
   "metadata": {},
   "source": [
    "### 3. Write a NumPy program to create a 5x5 zero matrix with elements on the main diagonal equal to 1, 2, 3, 4, 5."
   ]
  },
  {
   "cell_type": "code",
   "execution_count": 5,
   "metadata": {},
   "outputs": [
    {
     "data": {
      "text/plain": [
       "array([[1, 0, 0, 0, 0],\n",
       "       [0, 2, 0, 0, 0],\n",
       "       [0, 0, 3, 0, 0],\n",
       "       [0, 0, 0, 4, 0],\n",
       "       [0, 0, 0, 0, 5]])"
      ]
     },
     "execution_count": 5,
     "metadata": {},
     "output_type": "execute_result"
    }
   ],
   "source": [
    "arr3 = np.diag([1,2,3,4,5])\n",
    "arr3"
   ]
  },
  {
   "cell_type": "markdown",
   "metadata": {},
   "source": [
    "### 4. Given an array\n",
    " arr = np.array([0, 1, 2, 3, 4, 5, 6, 7, 8, 9])\n",
    "- i) Extract all odd numbers from arr\n",
    "- ii) Replace all odd numbers in arr with -1"
   ]
  },
  {
   "cell_type": "code",
   "execution_count": 12,
   "metadata": {},
   "outputs": [
    {
     "data": {
      "text/plain": [
       "array([0, 1, 2, 3, 4, 5, 6, 7, 8, 9])"
      ]
     },
     "execution_count": 12,
     "metadata": {},
     "output_type": "execute_result"
    }
   ],
   "source": [
    "arr4 = np.array([0, 1, 2, 3, 4, 5, 6, 7, 8, 9])\n",
    "arr4"
   ]
  },
  {
   "cell_type": "code",
   "execution_count": 7,
   "metadata": {},
   "outputs": [
    {
     "name": "stdout",
     "output_type": "stream",
     "text": [
      "1\n",
      "3\n",
      "5\n",
      "7\n",
      "9\n",
      "[ 0 -1  2 -1  4 -1  6 -1  8 -1]\n"
     ]
    }
   ],
   "source": [
    "for i in range(len(arr4)):\n",
    "    if i % 2 != 0:\n",
    "        print(arr4[i])\n",
    "        arr4[i] = -1\n",
    "print(arr4)\n",
    "        "
   ]
  },
  {
   "cell_type": "markdown",
   "metadata": {},
   "source": [
    "### 5.Write a NumPy program to create a 3x3 identity matrix, i.e. diagonal elements are 1,the rest are 0."
   ]
  },
  {
   "cell_type": "code",
   "execution_count": 8,
   "metadata": {},
   "outputs": [
    {
     "data": {
      "text/plain": [
       "array([[1, 0, 0],\n",
       "       [0, 1, 0],\n",
       "       [0, 0, 1]])"
      ]
     },
     "execution_count": 8,
     "metadata": {},
     "output_type": "execute_result"
    }
   ],
   "source": [
    "arr_identity = np.identity(3, dtype = int)\n",
    "arr_identity"
   ]
  },
  {
   "cell_type": "markdown",
   "metadata": {},
   "source": [
    "### 6. Write a NumPy program to convert an array to a float type."
   ]
  },
  {
   "cell_type": "code",
   "execution_count": 9,
   "metadata": {},
   "outputs": [
    {
     "name": "stdout",
     "output_type": "stream",
     "text": [
      "An array is:  [ 0 -1  2 -1  4 -1  6 -1  8 -1]\n",
      "Coverted array is: [ 0. -1.  2. -1.  4. -1.  6. -1.  8. -1.]\n"
     ]
    }
   ],
   "source": [
    "print('An array is: ', arr4)\n",
    "arr_float = arr4.astype(np.float)\n",
    "print('Coverted array is:', arr_float)"
   ]
  },
  {
   "cell_type": "markdown",
   "metadata": {},
   "source": [
    "### 7. Write a NumPy program to generate five random numbers from the normal distribution."
   ]
  },
  {
   "cell_type": "code",
   "execution_count": 10,
   "metadata": {},
   "outputs": [
    {
     "data": {
      "text/plain": [
       "array([ 0.19845024,  0.25195301, -1.58807851, -0.96405201,  1.10917373])"
      ]
     },
     "execution_count": 10,
     "metadata": {},
     "output_type": "execute_result"
    }
   ],
   "source": [
    "arr_ran = np.random.normal(size = 5)\n",
    "arr_ran"
   ]
  },
  {
   "cell_type": "markdown",
   "metadata": {},
   "source": [
    "### 8. Following is the input NumPy array delete column two and insert following new column in its place.\n",
    "sampleArray=numpy.array([[34,43,73],[82,22,12],[53,94,66]])\n",
    "\n",
    "newColumn = numpy.array([[10,10,10]])"
   ]
  },
  {
   "cell_type": "code",
   "execution_count": 16,
   "metadata": {},
   "outputs": [
    {
     "name": "stdout",
     "output_type": "stream",
     "text": [
      "Sample Array is:\n",
      " [[34 43 73]\n",
      " [82 22 12]\n",
      " [53 94 66]]\n"
     ]
    }
   ],
   "source": [
    "sampleArray=np.array([[34,43,73],[82,22,12],[53,94,66]])\n",
    "print('Sample Array is:\\n',sampleArray)"
   ]
  },
  {
   "cell_type": "code",
   "execution_count": 12,
   "metadata": {},
   "outputs": [
    {
     "name": "stdout",
     "output_type": "stream",
     "text": [
      "New array is:\n",
      " [[34 43 10]\n",
      " [82 22 10]\n",
      " [53 94 10]]\n"
     ]
    }
   ],
   "source": [
    "newColumn = np.array([[10,10,10]])\n",
    "sampleArray[:,2] = newColumn\n",
    "print('New array is:\\n', sampleArray)"
   ]
  },
  {
   "cell_type": "markdown",
   "metadata": {},
   "source": [
    "### 9. Write a NumPy program to compute the multiplication of two given matrices."
   ]
  },
  {
   "cell_type": "code",
   "execution_count": 13,
   "metadata": {},
   "outputs": [
    {
     "data": {
      "text/plain": [
       "array([[ 20,  80],\n",
       "       [ 90, 200]])"
      ]
     },
     "execution_count": 13,
     "metadata": {},
     "output_type": "execute_result"
    }
   ],
   "source": [
    "arr5 = np.array([[2,4],[3,5]])\n",
    "arr6 = np.array([[10,20],[30,40]])\n",
    "arr5*arr6"
   ]
  },
  {
   "cell_type": "code",
   "execution_count": 14,
   "metadata": {},
   "outputs": [
    {
     "data": {
      "text/plain": [
       "array([[ 20,  80],\n",
       "       [ 90, 200]])"
      ]
     },
     "execution_count": 14,
     "metadata": {},
     "output_type": "execute_result"
    }
   ],
   "source": [
    "# Method 2\n",
    "result = np.multiply(arr5,arr6)\n",
    "result"
   ]
  },
  {
   "cell_type": "markdown",
   "metadata": {},
   "source": [
    "### 10. Write a NumPy program to create a random vector of size 10 and sort it."
   ]
  },
  {
   "cell_type": "code",
   "execution_count": 20,
   "metadata": {},
   "outputs": [
    {
     "data": {
      "text/plain": [
       "array([0.79881829, 0.41891352, 0.93147817, 0.71849988, 0.02367299,\n",
       "       0.85540458, 0.8155129 , 0.25902852, 0.76688223, 0.1357689 ])"
      ]
     },
     "execution_count": 20,
     "metadata": {},
     "output_type": "execute_result"
    }
   ],
   "source": [
    "arr7 = np.random.random(10)\n",
    "arr7"
   ]
  },
  {
   "cell_type": "code",
   "execution_count": 21,
   "metadata": {},
   "outputs": [
    {
     "data": {
      "text/plain": [
       "array([0.02367299, 0.1357689 , 0.25902852, 0.41891352, 0.71849988,\n",
       "       0.76688223, 0.79881829, 0.8155129 , 0.85540458, 0.93147817])"
      ]
     },
     "execution_count": 21,
     "metadata": {},
     "output_type": "execute_result"
    }
   ],
   "source": [
    "arr7.sort()\n",
    "arr7"
   ]
  },
  {
   "cell_type": "markdown",
   "metadata": {},
   "source": [
    "### 11. Write a NumPy program to compute the covariance matrix of two arrays."
   ]
  },
  {
   "cell_type": "code",
   "execution_count": 29,
   "metadata": {},
   "outputs": [
    {
     "name": "stdout",
     "output_type": "stream",
     "text": [
      "Array 1 is: \n",
      " [100 110 120 130 140 150 160 170 180 190]\n",
      "Array 2 is: \n",
      " [32 31 16 32 49 14 41 25 42 18]\n",
      "Covariance of two arrays is: \n",
      " [[916.66666667  -6.66666667]\n",
      " [ -6.66666667 139.55555556]]\n"
     ]
    }
   ],
   "source": [
    "print('Array 1 is: \\n', arr1)\n",
    "arr8 = np.random.randint(0,50,10)\n",
    "print('Array 2 is: \\n', arr8)\n",
    "cov = np.cov(arr1,arr8)\n",
    "print('Covariance of two arrays is: \\n', cov)"
   ]
  },
  {
   "cell_type": "markdown",
   "metadata": {},
   "source": [
    "### 12.Create a 4X2 integer array and Prints its\n",
    "- i)The shape of an array.\n",
    "- ii) Array dimensions.\n",
    "- iii) The Length of each element of the array in bytes\n"
   ]
  },
  {
   "cell_type": "code",
   "execution_count": 32,
   "metadata": {},
   "outputs": [
    {
     "data": {
      "text/plain": [
       "array([[5, 5],\n",
       "       [5, 5],\n",
       "       [5, 5],\n",
       "       [5, 5]])"
      ]
     },
     "execution_count": 32,
     "metadata": {},
     "output_type": "execute_result"
    }
   ],
   "source": [
    "full = np.full((4,2),5)\n",
    "full"
   ]
  },
  {
   "cell_type": "code",
   "execution_count": 34,
   "metadata": {},
   "outputs": [
    {
     "name": "stdout",
     "output_type": "stream",
     "text": [
      "The shape of an array is:  (4, 2)\n",
      "The dimension of an array is:  2\n",
      "The length of each element of an array in bytes is:  4\n"
     ]
    }
   ],
   "source": [
    "print('The shape of an array is: ', full.shape)\n",
    "print('The dimension of an array is: ', full.ndim)\n",
    "print('The length of each element of an array in bytes is: ', full.itemsize)"
   ]
  },
  {
   "cell_type": "markdown",
   "metadata": {},
   "source": [
    "### 13. Write a NumPy program to concatenate element-wise two arrays of string"
   ]
  },
  {
   "cell_type": "code",
   "execution_count": 4,
   "metadata": {},
   "outputs": [
    {
     "data": {
      "text/plain": [
       "array(['DataFolkz'], dtype='<U9')"
      ]
     },
     "execution_count": 4,
     "metadata": {},
     "output_type": "execute_result"
    }
   ],
   "source": [
    "str_arr1 = np.array(['Data'])\n",
    "str_arr2 = np.array(['Folkz'])\n",
    "concat = np.char.add(str_arr1,str_arr2)\n",
    "concat"
   ]
  },
  {
   "cell_type": "markdown",
   "metadata": {},
   "source": [
    "### 14. Write a NumPy program to capitalize the first letter, lowercase, uppercase, swapcase, title-case of all the elements of a given array."
   ]
  },
  {
   "cell_type": "code",
   "execution_count": 7,
   "metadata": {},
   "outputs": [
    {
     "data": {
      "text/plain": [
       "array(['Numpy'], dtype='<U5')"
      ]
     },
     "execution_count": 7,
     "metadata": {},
     "output_type": "execute_result"
    }
   ],
   "source": [
    "strarr = np.char.capitalize(['numpy'])\n",
    "strarr"
   ]
  },
  {
   "cell_type": "code",
   "execution_count": 11,
   "metadata": {},
   "outputs": [
    {
     "name": "stdout",
     "output_type": "stream",
     "text": [
      "['numpy']\n",
      "['NUMPY']\n",
      "['nUMPY']\n",
      "['Numpy']\n"
     ]
    }
   ],
   "source": [
    "print(np.char.lower(strarr))\n",
    "print(np.char.upper(strarr))\n",
    "print(np.char.swapcase(strarr))\n",
    "print(np.char.title(strarr))"
   ]
  },
  {
   "cell_type": "markdown",
   "metadata": {},
   "source": [
    "### 15. Write a NumPy program to convert a given array into a list"
   ]
  },
  {
   "cell_type": "code",
   "execution_count": 14,
   "metadata": {},
   "outputs": [
    {
     "data": {
      "text/plain": [
       "array([0, 1, 2, 3, 4, 5, 6, 7, 8, 9])"
      ]
     },
     "execution_count": 14,
     "metadata": {},
     "output_type": "execute_result"
    }
   ],
   "source": [
    "arr4"
   ]
  },
  {
   "cell_type": "code",
   "execution_count": 15,
   "metadata": {},
   "outputs": [
    {
     "data": {
      "text/plain": [
       "[0, 1, 2, 3, 4, 5, 6, 7, 8, 9]"
      ]
     },
     "execution_count": 15,
     "metadata": {},
     "output_type": "execute_result"
    }
   ],
   "source": [
    "list(arr4)"
   ]
  },
  {
   "cell_type": "markdown",
   "metadata": {},
   "source": [
    "### 16. Write a NumPy program to compute the sum of all elements, sum of each column and sum of each row of a given array."
   ]
  },
  {
   "cell_type": "code",
   "execution_count": 17,
   "metadata": {},
   "outputs": [
    {
     "data": {
      "text/plain": [
       "array([[34, 43, 73],\n",
       "       [82, 22, 12],\n",
       "       [53, 94, 66]])"
      ]
     },
     "execution_count": 17,
     "metadata": {},
     "output_type": "execute_result"
    }
   ],
   "source": [
    "sampleArray"
   ]
  },
  {
   "cell_type": "code",
   "execution_count": 19,
   "metadata": {},
   "outputs": [
    {
     "name": "stdout",
     "output_type": "stream",
     "text": [
      "Sum of all elements: 479\n"
     ]
    }
   ],
   "source": [
    "print('Sum of all elements:', np.sum(sampleArray))"
   ]
  },
  {
   "cell_type": "code",
   "execution_count": 23,
   "metadata": {},
   "outputs": [
    {
     "name": "stdout",
     "output_type": "stream",
     "text": [
      "Sum of each column 1: 169 Sum of each column 1: 159 Sum of each column 1: 151\n"
     ]
    }
   ],
   "source": [
    "sumcol0 = np.sum(sampleArray[:,0])\n",
    "sumcol1 = np.sum(sampleArray[:,1])\n",
    "sumcol2 = np.sum(sampleArray[:,2])\n",
    "print('Sum of column 0:', sumcol0,'Sum of column 1:',sumcol1 ,'Sum of column 2:',sumcol2)"
   ]
  },
  {
   "cell_type": "code",
   "execution_count": 25,
   "metadata": {},
   "outputs": [
    {
     "name": "stdout",
     "output_type": "stream",
     "text": [
      "Sum of row 0: 150 Sum of row 1: 116 Sum of row 2: 213\n"
     ]
    }
   ],
   "source": [
    "sumrow0 = np.sum(sampleArray[:1])\n",
    "sumrow1 = np.sum(sampleArray[1:2])\n",
    "sumrow2 = np.sum(sampleArray[2])\n",
    "print('Sum of row 0:', sumrow0,'Sum of row 1:',sumrow1 ,'Sum of row 2:',sumrow2)"
   ]
  },
  {
   "cell_type": "markdown",
   "metadata": {},
   "source": [
    "### 17. Write a NumPy program to create a random 10x4 array and extract the first five rows of the array and store them into a variable."
   ]
  },
  {
   "cell_type": "code",
   "execution_count": 32,
   "metadata": {},
   "outputs": [
    {
     "data": {
      "text/plain": [
       "array([[0.22765213, 0.04971711, 0.13141026, 0.65963046],\n",
       "       [0.95795953, 0.74373275, 0.99913092, 0.046753  ],\n",
       "       [0.91542188, 0.51644947, 0.78849401, 0.02978595],\n",
       "       [0.53592369, 0.43473278, 0.51777015, 0.24867583],\n",
       "       [0.3085435 , 0.86530629, 0.95482266, 0.14352653],\n",
       "       [0.06852103, 0.16592989, 0.19036938, 0.1088876 ],\n",
       "       [0.4807407 , 0.03464742, 0.97462918, 0.52622501],\n",
       "       [0.71928334, 0.89668473, 0.70713225, 0.63588986],\n",
       "       [0.57745385, 0.36185676, 0.07784286, 0.94255387],\n",
       "       [0.60500049, 0.97362384, 0.95786699, 0.99988448]])"
      ]
     },
     "execution_count": 32,
     "metadata": {},
     "output_type": "execute_result"
    }
   ],
   "source": [
    "arr9 = np.random.rand(10,4)\n",
    "arr9"
   ]
  },
  {
   "cell_type": "code",
   "execution_count": 34,
   "metadata": {},
   "outputs": [
    {
     "data": {
      "text/plain": [
       "array([[0.22765213, 0.04971711, 0.13141026, 0.65963046],\n",
       "       [0.95795953, 0.74373275, 0.99913092, 0.046753  ],\n",
       "       [0.91542188, 0.51644947, 0.78849401, 0.02978595],\n",
       "       [0.53592369, 0.43473278, 0.51777015, 0.24867583],\n",
       "       [0.3085435 , 0.86530629, 0.95482266, 0.14352653]])"
      ]
     },
     "execution_count": 34,
     "metadata": {},
     "output_type": "execute_result"
    }
   ],
   "source": [
    "var = arr9[0:5]\n",
    "var"
   ]
  },
  {
   "cell_type": "markdown",
   "metadata": {},
   "source": [
    "### 18. Write a NumPy program to get the unique elements of a 1D and 2D array."
   ]
  },
  {
   "cell_type": "code",
   "execution_count": 50,
   "metadata": {},
   "outputs": [
    {
     "data": {
      "text/plain": [
       "array([[0, 1, 2, 3, 4],\n",
       "       [1, 5, 3, 9, 4]])"
      ]
     },
     "execution_count": 50,
     "metadata": {},
     "output_type": "execute_result"
    }
   ],
   "source": [
    "arr10 = np.array([[0, 1, 2, 3, 4],\n",
    "       [5, 6, 7, 8, 9]])\n",
    "arr10[1] = np.array([[1,5,3,9,4]])\n",
    "arr10"
   ]
  },
  {
   "cell_type": "code",
   "execution_count": 51,
   "metadata": {},
   "outputs": [
    {
     "data": {
      "text/plain": [
       "array([0, 1, 2, 3, 4, 5, 9])"
      ]
     },
     "execution_count": 51,
     "metadata": {},
     "output_type": "execute_result"
    }
   ],
   "source": [
    "uni2D = np.unique(arr10)\n",
    "uni2D"
   ]
  },
  {
   "cell_type": "code",
   "execution_count": 39,
   "metadata": {},
   "outputs": [
    {
     "data": {
      "text/plain": [
       "array([-10.  ,  12.  ,   0.12,  -0.2 ,  12.  ])"
      ]
     },
     "execution_count": 39,
     "metadata": {},
     "output_type": "execute_result"
    }
   ],
   "source": [
    "arr"
   ]
  },
  {
   "cell_type": "code",
   "execution_count": 38,
   "metadata": {},
   "outputs": [
    {
     "data": {
      "text/plain": [
       "array([-10.  ,  -0.2 ,   0.12,  12.  ])"
      ]
     },
     "execution_count": 38,
     "metadata": {},
     "output_type": "execute_result"
    }
   ],
   "source": [
    "uni1D = np.unique(arr)\n",
    "uni1D"
   ]
  },
  {
   "cell_type": "markdown",
   "metadata": {},
   "source": [
    "### 19. Write a NumPy program to get the unique elements of an array.\n",
    " arr= [ -10 12.12 -0.2]"
   ]
  },
  {
   "cell_type": "code",
   "execution_count": 29,
   "metadata": {},
   "outputs": [
    {
     "name": "stdout",
     "output_type": "stream",
     "text": [
      "[-10.    12.     0.12  -0.2   12.  ]\n"
     ]
    },
    {
     "data": {
      "text/plain": [
       "array([-10.  ,  -0.2 ,   0.12,  12.  ])"
      ]
     },
     "execution_count": 29,
     "metadata": {},
     "output_type": "execute_result"
    }
   ],
   "source": [
    "arr = np.array([-10, 12,.12,-0.2,12])\n",
    "print(arr)\n",
    "np.unique(arr)"
   ]
  },
  {
   "cell_type": "markdown",
   "metadata": {},
   "source": [
    "### 20. Write a NumPy program to save a given array to a text file and load it. You have to save and load files using numpy library ."
   ]
  },
  {
   "cell_type": "code",
   "execution_count": 55,
   "metadata": {},
   "outputs": [
    {
     "name": "stdout",
     "output_type": "stream",
     "text": [
      "Original array:\n",
      " [[ 0  1  2  3]\n",
      " [ 4  5  6  7]\n",
      " [ 8  9 10 11]\n",
      " [12 13 14 15]]\n",
      "After loading, content of the text file is:\n",
      " [[ 0.  1.  2.  3.]\n",
      " [ 4.  5.  6.  7.]\n",
      " [ 8.  9. 10. 11.]\n",
      " [12. 13. 14. 15.]]\n"
     ]
    }
   ],
   "source": [
    "arr11 = np.arange(16).reshape(4, 4)\n",
    "print(\"Original array:\\n\",arr11)\n",
    "np.savetxt('temp.txt', arr11) \n",
    "result = np.loadtxt('temp.txt')\n",
    "print(\"After loading, content of the text file is:\\n\", result)"
   ]
  }
 ],
 "metadata": {
  "kernelspec": {
   "display_name": "Python 3",
   "language": "python",
   "name": "python3"
  },
  "language_info": {
   "codemirror_mode": {
    "name": "ipython",
    "version": 3
   },
   "file_extension": ".py",
   "mimetype": "text/x-python",
   "name": "python",
   "nbconvert_exporter": "python",
   "pygments_lexer": "ipython3",
   "version": "3.7.1"
  }
 },
 "nbformat": 4,
 "nbformat_minor": 4
}
