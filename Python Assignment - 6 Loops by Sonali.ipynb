{
 "cells": [
  {
   "cell_type": "markdown",
   "metadata": {},
   "source": [
    "#### 1. Print First 10 natural numbers using while loop\n"
   ]
  },
  {
   "cell_type": "code",
   "execution_count": 1,
   "metadata": {},
   "outputs": [
    {
     "name": "stdout",
     "output_type": "stream",
     "text": [
      "1\n",
      "2\n",
      "3\n",
      "4\n",
      "5\n",
      "6\n",
      "7\n",
      "8\n",
      "9\n",
      "10\n"
     ]
    }
   ],
   "source": [
    "for i in range(1,11):\n",
    "    print(i)"
   ]
  },
  {
   "cell_type": "markdown",
   "metadata": {},
   "source": [
    "#### 2. Display -10 to -1 using for loop\n"
   ]
  },
  {
   "cell_type": "code",
   "execution_count": 2,
   "metadata": {},
   "outputs": [
    {
     "name": "stdout",
     "output_type": "stream",
     "text": [
      "-10\n",
      "-9\n",
      "-8\n",
      "-7\n",
      "-6\n",
      "-5\n",
      "-4\n",
      "-3\n",
      "-2\n",
      "-1\n"
     ]
    }
   ],
   "source": [
    "for i in range(-10,0):\n",
    "    print(i)"
   ]
  },
  {
   "cell_type": "markdown",
   "metadata": {},
   "source": [
    "#### 3. Write a python program to print the factorial of a given number\n"
   ]
  },
  {
   "cell_type": "code",
   "execution_count": 7,
   "metadata": {},
   "outputs": [
    {
     "name": "stdout",
     "output_type": "stream",
     "text": [
      "Enter a number: 5\n",
      "The factorial of 5 is 120\n"
     ]
    }
   ],
   "source": [
    "num = int(input(\"Enter a number: \")) \n",
    "factorial = 1  \n",
    "if num < 0:  \n",
    "    print('Sorry, factorial does not exist for negative numbers')  \n",
    "elif num == 0:  \n",
    "    print('The factorial of 0 is 1')  \n",
    "else:  \n",
    "    for i in range(1,num + 1):  \n",
    "        factorial = factorial * i  \n",
    "    print('The factorial of',num,'is',factorial)  "
   ]
  },
  {
   "cell_type": "markdown",
   "metadata": {},
   "source": [
    "#### 4. Write a python program to print all prime numbers between 0 to 100 , and print how many prime numbers are there.\n"
   ]
  },
  {
   "cell_type": "code",
   "execution_count": 100,
   "metadata": {},
   "outputs": [
    {
     "name": "stdout",
     "output_type": "stream",
     "text": [
      "2\n",
      "3\n",
      "5\n",
      "7\n",
      "11\n",
      "13\n",
      "17\n",
      "19\n",
      "23\n",
      "29\n",
      "31\n",
      "37\n",
      "41\n",
      "43\n",
      "47\n",
      "53\n",
      "59\n",
      "61\n",
      "67\n",
      "71\n",
      "73\n",
      "79\n",
      "83\n",
      "89\n",
      "97\n",
      "Total no of count is :  25\n"
     ]
    }
   ],
   "source": [
    "count = 0\n",
    "for i in range(1,101):    \n",
    "    if i > 1:\n",
    "        for j in range(2,i):\n",
    "            if(i % j ==0):\n",
    "                break\n",
    "        else:\n",
    "            print(i)\n",
    "            count = count + 1\n",
    "print(\"Total no of count is : \",count)    \n"
   ]
  },
  {
   "cell_type": "markdown",
   "metadata": {},
   "source": [
    "#### 5. Print the following pattern :\n",
    "    1\n",
    "    1 2\n",
    "    1 2 3\n",
    "    1 2 3 4\n",
    "    1 2 3 4 5\n"
   ]
  },
  {
   "cell_type": "code",
   "execution_count": 102,
   "metadata": {},
   "outputs": [
    {
     "name": "stdout",
     "output_type": "stream",
     "text": [
      "1 \n",
      "1 2 \n",
      "1 2 3 \n",
      "1 2 3 4 \n",
      "1 2 3 4 5 \n"
     ]
    }
   ],
   "source": [
    "rows = 5\n",
    "for row in range(1, rows+1):\n",
    "    for column in range(1, row + 1):\n",
    "        print(column, end=' ')\n",
    "    print(\"\")\n",
    "        "
   ]
  },
  {
   "cell_type": "markdown",
   "metadata": {},
   "source": [
    "#### 6 Accept n number from user and calculate the sum of all number between 1 and n including n\n"
   ]
  },
  {
   "cell_type": "code",
   "execution_count": 107,
   "metadata": {},
   "outputs": [
    {
     "name": "stdout",
     "output_type": "stream",
     "text": [
      "Enter a number :10\n",
      "55\n"
     ]
    }
   ],
   "source": [
    "n = int(input('Enter a number :'))\n",
    "sum = 0\n",
    "for x in range(1, n+1) : \n",
    "    sum = sum + x \n",
    "print(sum)"
   ]
  },
  {
   "cell_type": "markdown",
   "metadata": {},
   "source": [
    "#### 7. Given a number count the total number of digits in a number.\n"
   ]
  },
  {
   "cell_type": "code",
   "execution_count": 108,
   "metadata": {},
   "outputs": [
    {
     "name": "stdout",
     "output_type": "stream",
     "text": [
      "Please Enter any Number: 10000\n",
      "\n",
      " Number of Digits in a Given Number = 5\n"
     ]
    }
   ],
   "source": [
    "Number = int(input(\"Please Enter any Number: \"))\n",
    "Count = 0\n",
    "while(Number > 0):\n",
    "    Number = Number // 10\n",
    "    Count = Count + 1\n",
    "\n",
    "print(\"\\n Number of Digits in a Given Number = %d\" %Count)"
   ]
  },
  {
   "cell_type": "markdown",
   "metadata": {},
   "source": [
    "#### 8. Write a Python program to create the multiplication table (from 1 to 10) of a number.\n",
    "\n"
   ]
  },
  {
   "cell_type": "code",
   "execution_count": 110,
   "metadata": {},
   "outputs": [
    {
     "name": "stdout",
     "output_type": "stream",
     "text": [
      "Display multiplication table of : 5\n",
      "5 x 1 = 5\n",
      "5 x 2 = 10\n",
      "5 x 3 = 15\n",
      "5 x 4 = 20\n",
      "5 x 5 = 25\n",
      "5 x 6 = 30\n",
      "5 x 7 = 35\n",
      "5 x 8 = 40\n",
      "5 x 9 = 45\n",
      "5 x 10 = 50\n"
     ]
    }
   ],
   "source": [
    "# To take input from the user\n",
    "num = int(input(\"Display multiplication table of : \"))\n",
    "\n",
    "# Iterate 10 times from i = 1 to 10\n",
    "for i in range(1, 11):\n",
    "   print(num, 'x', i, '=', num*i)"
   ]
  },
  {
   "cell_type": "markdown",
   "metadata": {},
   "source": [
    "#### 9 Reverse the following list using for loop list1 = [10, 20, 30, 40, 50]\n"
   ]
  },
  {
   "cell_type": "code",
   "execution_count": 121,
   "metadata": {},
   "outputs": [
    {
     "name": "stdout",
     "output_type": "stream",
     "text": [
      "50\n",
      "40\n",
      "30\n",
      "20\n",
      "10\n"
     ]
    }
   ],
   "source": [
    "list1 = [10, 20, 30, 40, 50]\n",
    "start = len(list1) - 1\n",
    "#print(start)\n",
    "stop = -1\n",
    "step = -1\n",
    "for i in range(start, stop, step) :\n",
    "    print(list1[i])"
   ]
  },
  {
   "cell_type": "markdown",
   "metadata": {},
   "source": [
    "#### 10. Write a Python program to construct the following pattern, using a nested for loop.\n",
    "    *\n",
    "    * *\n",
    "    * * * \n",
    "    * * * * \n",
    "    * * * * * \n",
    "    * * * * \n",
    "    * * *\n",
    "    * *\n",
    "    *"
   ]
  },
  {
   "cell_type": "code",
   "execution_count": 103,
   "metadata": {},
   "outputs": [
    {
     "name": "stdout",
     "output_type": "stream",
     "text": [
      "* \r\n",
      "* * \r\n",
      "* * * \r\n",
      "* * * * \r\n",
      "* * * * * \r\n",
      "* * * * \r\n",
      "* * * \r\n",
      "* * \r\n",
      "* \r\n",
      "\r\n"
     ]
    }
   ],
   "source": [
    "rows = 5\n",
    "for i in range(0, rows):\n",
    "    for j in range(0, i + 1):\n",
    "        print(\"*\", end=' ')\n",
    "    print(\"\\r\")\n",
    "\n",
    "for i in range(rows, 0, -1):\n",
    "    for j in range(0, i - 1):\n",
    "        print(\"*\", end=' ')\n",
    "    print(\"\\r\")\n"
   ]
  },
  {
   "cell_type": "markdown",
   "metadata": {},
   "source": [
    "#### 11. Write a Python program that accepts a string and calculate the number of digits and letters."
   ]
  },
  {
   "cell_type": "code",
   "execution_count": 136,
   "metadata": {},
   "outputs": [
    {
     "name": "stdout",
     "output_type": "stream",
     "text": [
      "Enter string:hi my number is 12345\n",
      "The number of digits is:\n",
      "5\n",
      "The number of letter is:\n",
      "12\n"
     ]
    }
   ],
   "source": [
    "string=input(\"Enter string:\")\n",
    "count1=0\n",
    "count2=0\n",
    "for i in string:\n",
    "      if(i.isdigit()):\n",
    "            count1 = count1 + 1\n",
    "      elif i.isalpha():\n",
    "            count2 = count2 + 1\n",
    "print(\"The number of digits is:\")\n",
    "print(count1)\n",
    "print(\"The number of letter is:\")\n",
    "print(count2)"
   ]
  },
  {
   "cell_type": "markdown",
   "metadata": {},
   "source": [
    "#### 12. From a list containing ints, strings and floats, make three lists to store them separately."
   ]
  },
  {
   "cell_type": "code",
   "execution_count": 139,
   "metadata": {},
   "outputs": [
    {
     "name": "stdout",
     "output_type": "stream",
     "text": [
      "[9, 56, 8, 2]\n",
      "[4.7]\n",
      "['sonali']\n"
     ]
    }
   ],
   "source": [
    "l1=[9, 56,8,\"sonali\", 4.7, 2]\n",
    "l2=[]\n",
    "l3=[]\n",
    "l4=[]\n",
    "\n",
    "for i in l1:\n",
    "    if type(i)==int:\n",
    "        l2.append(i)\n",
    "    elif type(i)==float:\n",
    "        l3.append(i)\n",
    "    elif type(i)==str:\n",
    "        l4.append(i)\n",
    "print(l2)\n",
    "print(l3)\n",
    "print(l4)"
   ]
  },
  {
   "cell_type": "code",
   "execution_count": null,
   "metadata": {},
   "outputs": [],
   "source": []
  }
 ],
 "metadata": {
  "kernelspec": {
   "display_name": "Python 3",
   "language": "python",
   "name": "python3"
  },
  "language_info": {
   "codemirror_mode": {
    "name": "ipython",
    "version": 3
   },
   "file_extension": ".py",
   "mimetype": "text/x-python",
   "name": "python",
   "nbconvert_exporter": "python",
   "pygments_lexer": "ipython3",
   "version": "3.7.1"
  }
 },
 "nbformat": 4,
 "nbformat_minor": 2
}
