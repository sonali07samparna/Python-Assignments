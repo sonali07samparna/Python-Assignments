{
 "cells": [
  {
   "cell_type": "markdown",
   "metadata": {
    "colab_type": "text",
    "id": "TOLJ3hv4C5z_"
   },
   "source": [
    "### 1. Take two integer values from the user and print greatest among them.\n"
   ]
  },
  {
   "cell_type": "code",
   "execution_count": null,
   "metadata": {
    "colab": {
     "base_uri": "https://localhost:8080/",
     "height": 67
    },
    "colab_type": "code",
    "executionInfo": {
     "elapsed": 6708,
     "status": "ok",
     "timestamp": 1597833647350,
     "user": {
      "displayName": "Sonali S",
      "photoUrl": "https://lh3.googleusercontent.com/a-/AOh14GidegHjA3IxpagtoQNSmgQC7q8CXGYeN9Bk4e4BXn8=s64",
      "userId": "10814057232685694934"
     },
     "user_tz": -330
    },
    "id": "l6V-fj21C-H1",
    "outputId": "ab2ad0c5-1ce9-4589-ff90-528667e79f8e"
   },
   "outputs": [
    {
     "name": "stdout",
     "output_type": "stream",
     "text": [
      "Enter 1st integer: 90\n",
      "Enter 2nd Integer: 34\n",
      "int1 90 is greater thn int2 34\n"
     ]
    }
   ],
   "source": [
    "int1 = int(input(\"Enter 1st integer: \"))\n",
    "int2 = int(input(\"Enter 2nd Integer: \"))\n",
    "if int1 > int2:\n",
    "  print(\"int1 \" + str(int1) + \" is greater thn int2 \" + str(int2))\n",
    "else:\n",
    "  print(\"int2 \" + str(int2) + \" is greater thn int1 \" + str(int1))\n"
   ]
  },
  {
   "cell_type": "markdown",
   "metadata": {
    "colab_type": "text",
    "id": "F0oh1pQ7Qjsg"
   },
   "source": [
    "### 2. Write a program that reads an integer from the user. Then your program should display a message indicating whether the integer is even or odd."
   ]
  },
  {
   "cell_type": "markdown",
   "metadata": {
    "colab_type": "text",
    "id": "mhHau8sUC2-n"
   },
   "source": []
  },
  {
   "cell_type": "code",
   "execution_count": null,
   "metadata": {
    "colab": {
     "base_uri": "https://localhost:8080/",
     "height": 50
    },
    "colab_type": "code",
    "executionInfo": {
     "elapsed": 4277,
     "status": "ok",
     "timestamp": 1597840540602,
     "user": {
      "displayName": "Sonali S",
      "photoUrl": "https://lh3.googleusercontent.com/a-/AOh14GidegHjA3IxpagtoQNSmgQC7q8CXGYeN9Bk4e4BXn8=s64",
      "userId": "10814057232685694934"
     },
     "user_tz": -330
    },
    "id": "HTGJ_9YdQxqw",
    "outputId": "c5a0eeeb-68e0-45a5-b3be-135588109c8c"
   },
   "outputs": [
    {
     "name": "stdout",
     "output_type": "stream",
     "text": [
      "Enter an integer : 3\n",
      "This number:3 is an odd number\n"
     ]
    }
   ],
   "source": [
    "int3 = int(input(\"Enter an integer : \"))\n",
    "if (int3 % 2) == 0:\n",
    "  print(\"The number: \" + str(int3) + \" is even number\")\n",
    "else:\n",
    "  print(\"This number:\" +str(int3) + \" is an odd number\")"
   ]
  },
  {
   "cell_type": "markdown",
   "metadata": {
    "colab_type": "text",
    "id": "CkHi7z8DuHay"
   },
   "source": [
    "### 3. Create a program that reads a letter of the alphabet from the user. If the user enters a, e, i, o or u then your program should display a message indicating that the entered letter is a vowel. If the user enters y then your program should display a message indicating that sometimes y is a vowel, and sometimes y is a consonant. Otherwise your program should display a message indicating that the letter is a consonant."
   ]
  },
  {
   "cell_type": "code",
   "execution_count": null,
   "metadata": {
    "colab": {
     "base_uri": "https://localhost:8080/",
     "height": 51
    },
    "colab_type": "code",
    "executionInfo": {
     "elapsed": 4412,
     "status": "ok",
     "timestamp": 1598300068190,
     "user": {
      "displayName": "Sonali S",
      "photoUrl": "https://lh3.googleusercontent.com/a-/AOh14GidegHjA3IxpagtoQNSmgQC7q8CXGYeN9Bk4e4BXn8=s64",
      "userId": "10814057232685694934"
     },
     "user_tz": -330
    },
    "id": "l_5dNj5SuOj6",
    "outputId": "5978aa36-0455-4fc5-c35d-c347a4cc066b"
   },
   "outputs": [
    {
     "name": "stdout",
     "output_type": "stream",
     "text": [
      "Enter a letter : E\n",
      "Entered alphabet is a vowel\n"
     ]
    }
   ],
   "source": [
    "Alphabet = input(\"Enter a letter : \")\n",
    "if Alphabet in (\"a\" ,\"e\" , \"i\" , \"o\" , \"u\" , \"A\" , \"E\" , \"I\" , \"O\" , \"U\"):\n",
    "  print(\"Entered alphabet is a vowel\")\n",
    "elif Alphabet in (\"y\" , \"Y\"):\n",
    "  print(\"Entered alphabet is sometimes both vowel and consonant \")\n",
    "else:\n",
    "  print(\"Entered alphabet is a consonant\")"
   ]
  },
  {
   "cell_type": "markdown",
   "metadata": {
    "colab_type": "text",
    "id": "KRGgTpJtBYHu"
   },
   "source": [
    "### 4. A triangle can be classified based on the lengths of its sides as equilateral, isosceles or scalene. All three sides of an equilateral triangle have the same length. An isosceles triangle has two sides that are the same length, and a third side that is a different length. If all of the sides have different lengths then the triangle is scalene. Write a program that reads the lengths of the three sides of a triangle from the user.Then display a message that states the triangle’s type."
   ]
  },
  {
   "cell_type": "code",
   "execution_count": null,
   "metadata": {
    "colab": {
     "base_uri": "https://localhost:8080/",
     "height": 85
    },
    "colab_type": "code",
    "executionInfo": {
     "elapsed": 6640,
     "status": "ok",
     "timestamp": 1598300602110,
     "user": {
      "displayName": "Sonali S",
      "photoUrl": "https://lh3.googleusercontent.com/a-/AOh14GidegHjA3IxpagtoQNSmgQC7q8CXGYeN9Bk4e4BXn8=s64",
      "userId": "10814057232685694934"
     },
     "user_tz": -330
    },
    "id": "n7z3uIzVBrCh",
    "outputId": "efb4196c-c563-4bc9-e498-ade3dae2000f"
   },
   "outputs": [
    {
     "name": "stdout",
     "output_type": "stream",
     "text": [
      "Enter the lenth of side1 of triangle1\n",
      "Enter the lenth of side2 of triangle2\n",
      "Enter the lenth of side3 of triangle2\n",
      "This is an isoscles Triangle\n"
     ]
    }
   ],
   "source": [
    "L1 = int(input(\"Enter the lenth of side1 of triangle\"))\n",
    "L2 = int(input(\"Enter the lenth of side2 of triangle\"))\n",
    "L3 = int(input(\"Enter the lenth of side3 of triangle\"))\n",
    "\n",
    "if L1 == L2 == L3:\n",
    "  print(\"This is a equilateral Triangle\")\n",
    "elif L1 in (L2,L3) or L2 in (L1,L3):\n",
    "  print(\"This is an isoscles Triangle\")\n",
    "else:\n",
    "  print(\"This is a Scalene Triangle\")"
   ]
  },
  {
   "cell_type": "markdown",
   "metadata": {
    "colab_type": "text",
    "id": "3NU5Obm8BrvU"
   },
   "source": [
    "### 5. Write a program that determines the name of a shape\n",
    "from its number of sides. Read the number of sides from the user and then report the appropriate name as part of a meaningful message. Your program should support shapes with anywhere from 3 up to (and including) 10 sides. If a number of sides outside of this range is entered then your program should display an appropriate error message."
   ]
  },
  {
   "cell_type": "code",
   "execution_count": null,
   "metadata": {
    "colab": {},
    "colab_type": "code",
    "id": "NL34r9HyCFjC"
   },
   "outputs": [],
   "source": []
  },
  {
   "cell_type": "markdown",
   "metadata": {
    "colab_type": "text",
    "id": "RLHz30MxCGKv"
   },
   "source": [
    "### 6. A shop will give a discount of 10% if the cost of the purchased quantity is more than 1000. Ask the user for quantity, suppose, one unit will cost 100. Judge and print total cost for user."
   ]
  },
  {
   "cell_type": "code",
   "execution_count": null,
   "metadata": {
    "colab": {
     "base_uri": "https://localhost:8080/",
     "height": 51
    },
    "colab_type": "code",
    "executionInfo": {
     "elapsed": 9001,
     "status": "ok",
     "timestamp": 1598302430514,
     "user": {
      "displayName": "Sonali S",
      "photoUrl": "https://lh3.googleusercontent.com/a-/AOh14GidegHjA3IxpagtoQNSmgQC7q8CXGYeN9Bk4e4BXn8=s64",
      "userId": "10814057232685694934"
     },
     "user_tz": -330
    },
    "id": "4C34EWSTCNZr",
    "outputId": "b6b1e8e7-8429-4bbb-999f-a90e4dacfc67"
   },
   "outputs": [
    {
     "name": "stdout",
     "output_type": "stream",
     "text": [
      "Enter the Qty : 1001\n",
      "The Final Discounted Cost is : 90090.0\n"
     ]
    }
   ],
   "source": [
    "qty = int(input(\"Enter the Qty : \"))\n",
    "cost = qty * 100\n",
    "disc_cost = cost - (cost * 10/100)\n",
    "\n",
    "if qty >= 1000:\n",
    "  print(\"The Final Discounted Cost is : \" + str(disc_cost))\n",
    "else:\n",
    "  print(\"The Final Cost is : \" +str(cost))"
   ]
  },
  {
   "cell_type": "markdown",
   "metadata": {
    "colab_type": "text",
    "id": "uhTkW_CECNx_"
   },
   "source": [
    "### 7. Take input of age of 3 people by user and determine oldest and youngest among them."
   ]
  },
  {
   "cell_type": "code",
   "execution_count": null,
   "metadata": {
    "colab": {
     "base_uri": "https://localhost:8080/",
     "height": 102
    },
    "colab_type": "code",
    "executionInfo": {
     "elapsed": 8463,
     "status": "ok",
     "timestamp": 1598303962049,
     "user": {
      "displayName": "Sonali S",
      "photoUrl": "https://lh3.googleusercontent.com/a-/AOh14GidegHjA3IxpagtoQNSmgQC7q8CXGYeN9Bk4e4BXn8=s64",
      "userId": "10814057232685694934"
     },
     "user_tz": -330
    },
    "id": "y_U4dCvzCUhl",
    "outputId": "e3550982-b1cf-4807-f20a-fae20eaeef49"
   },
   "outputs": [
    {
     "name": "stdout",
     "output_type": "stream",
     "text": [
      "Enter Age of person-1 : 5\n",
      "Enter Age of person-2 : 9\n",
      "Enter Age of person-3 : 3\n",
      "Person -2 is oldest\n",
      "person-3 is youngest\n"
     ]
    }
   ],
   "source": [
    "age1 = int(input(\"Enter Age of person-1 : \"))\n",
    "age2 = int(input(\"Enter Age of person-2 : \"))\n",
    "age3 = int(input(\"Enter Age of person-3 : \"))\n",
    "\n",
    "if age1 > age2 and age1 > age3:\n",
    "  print(\"Person -1 is oldest\")\n",
    "elif age2 > age1 and age2 > age3:\n",
    "  print(\"Person -2 is oldest\")\n",
    "elif age3 > age1 and age3 > age2:\n",
    "  print(\"Person-3 is oldest\")\n",
    "if age1 < age2 and age1 < age3:\n",
    "    print(\"person-1 is youngest\")\n",
    "elif age2 < age1 and age2 < age3:\n",
    "    print(\"person-2 is youngest\")\n",
    "elif age3 < age1 and age3 < age2:\n",
    "    print(\"person-3 is youngest\")\n",
    "else:\n",
    "  print(\"All are of same age\")\n",
    "\n"
   ]
  },
  {
   "cell_type": "markdown",
   "metadata": {
    "colab_type": "text",
    "id": "fjBceaSDCU9D"
   },
   "source": [
    "### 8. A company decided to give a bonus of 5% to an employee if his/her year of service is more than 5 years. Ask user for their salary and year of service and print the net bonus amount."
   ]
  },
  {
   "cell_type": "code",
   "execution_count": null,
   "metadata": {
    "colab": {
     "base_uri": "https://localhost:8080/",
     "height": 68
    },
    "colab_type": "code",
    "executionInfo": {
     "elapsed": 7199,
     "status": "ok",
     "timestamp": 1598304434386,
     "user": {
      "displayName": "Sonali S",
      "photoUrl": "https://lh3.googleusercontent.com/a-/AOh14GidegHjA3IxpagtoQNSmgQC7q8CXGYeN9Bk4e4BXn8=s64",
      "userId": "10814057232685694934"
     },
     "user_tz": -330
    },
    "id": "oqojKo49CcoS",
    "outputId": "31981360-e272-4ca5-8b57-8011bba4e027"
   },
   "outputs": [
    {
     "name": "stdout",
     "output_type": "stream",
     "text": [
      "Enter the Year of Service : 2\n",
      "Enter the salary : 1000\n",
      "The net salary is : 1000\n"
     ]
    }
   ],
   "source": [
    "YOS = int(input(\"Enter the Year of Service : \"))\n",
    "sal = int(input(\"Enter the salary : \"))\n",
    "bonus = sal + (sal * 5/100)\n",
    "\n",
    "if YOS > 5:\n",
    "  print(\"The net Bonus salary is : \" + str(bonus))\n",
    "else:\n",
    "  print(\"The net salary is : \" + str(sal))"
   ]
  },
  {
   "cell_type": "markdown",
   "metadata": {
    "colab_type": "text",
    "id": "25XNDXsYCdCi"
   },
   "source": [
    "### 9. Write a program to check if a year is leap year or not. If a year is divisible by 4 then it is leap year but if the year is a century year like 2000, 1900, 2100 then it must be divisible by 400."
   ]
  },
  {
   "cell_type": "code",
   "execution_count": null,
   "metadata": {
    "colab": {
     "base_uri": "https://localhost:8080/",
     "height": 51
    },
    "colab_type": "code",
    "executionInfo": {
     "elapsed": 17969,
     "status": "ok",
     "timestamp": 1598306579894,
     "user": {
      "displayName": "Sonali S",
      "photoUrl": "https://lh3.googleusercontent.com/a-/AOh14GidegHjA3IxpagtoQNSmgQC7q8CXGYeN9Bk4e4BXn8=s64",
      "userId": "10814057232685694934"
     },
     "user_tz": -330
    },
    "id": "UgM3ZEbXCmHV",
    "outputId": "1775b429-5801-4c04-cd55-4fb270ef5890"
   },
   "outputs": [
    {
     "name": "stdout",
     "output_type": "stream",
     "text": [
      "Enter the year : 1704\n",
      "This is a leap year\n"
     ]
    }
   ],
   "source": [
    "year = int(input(\"Enter the year : \"))\n",
    "\n",
    "if year % 100 == 0:    #To check a century Year\n",
    "  if year % 400 == 0:\n",
    "    print(\"This is a Leap year\")\n",
    "  else:\n",
    "    print(\"This is not a leap year\")\n",
    "elif year % 4 == 0:     #if not century year\n",
    "  print(\"This is a leap year\")\n",
    "else:\n",
    "  print(\"This is not a leap year\")"
   ]
  },
  {
   "cell_type": "markdown",
   "metadata": {
    "colab_type": "text",
    "id": "U4BbN1etCmh4"
   },
   "source": [
    "### 10. Accept d1 and d2 as input. First, check to see that they are in the proper range for dice. If not, print a message.Otherwise, determine the outcome if this is the come out roll.If the sum is 7 or 11, print the winner. If the sum is 2, 3 or 12, print loser. Otherwise print the point."
   ]
  },
  {
   "cell_type": "code",
   "execution_count": null,
   "metadata": {
    "colab": {
     "base_uri": "https://localhost:8080/",
     "height": 68
    },
    "colab_type": "code",
    "executionInfo": {
     "elapsed": 4456,
     "status": "ok",
     "timestamp": 1598307945355,
     "user": {
      "displayName": "Sonali S",
      "photoUrl": "https://lh3.googleusercontent.com/a-/AOh14GidegHjA3IxpagtoQNSmgQC7q8CXGYeN9Bk4e4BXn8=s64",
      "userId": "10814057232685694934"
     },
     "user_tz": -330
    },
    "id": "sLWYTF6jCtwb",
    "outputId": "3fac4825-7516-4210-94bb-53167d3dea87"
   },
   "outputs": [
    {
     "name": "stdout",
     "output_type": "stream",
     "text": [
      "Enter the dice1 no : 5\n",
      "Enter the dice2 no : 6\n",
      "Winner\n"
     ]
    }
   ],
   "source": [
    "d1 = int(input(\"Enter the dice1 no : \"))\n",
    "d2 = int(input(\"Enter the dice2 no : \"))\n",
    "\n",
    "if d1 in (1,2,3,4,5,6) and d2 in (1,2,3,4,5,6):   #checking Range\n",
    "  if d1 + d2 == 7 or d1 + d2 == 11:\n",
    "    print(\"Winner\")\n",
    "  elif d1 + d2 == 2 or d1 + d2 == 3 or d1 + d2 == 12:\n",
    "    print(\"Loser\")\n",
    "  else:\n",
    "    print(\"The point is : \" + str(d1 + d2))\n",
    "else:\n",
    "  print(\"The dice are not in range\")\n",
    "\n"
   ]
  },
  {
   "cell_type": "markdown",
   "metadata": {
    "colab_type": "text",
    "id": "hKjSsqZQCuST"
   },
   "source": [
    "### 11. Write a python program to display the number of days in a month name from the given list of months or month number entered by user."
   ]
  },
  {
   "cell_type": "code",
   "execution_count": null,
   "metadata": {
    "colab": {
     "base_uri": "https://localhost:8080/",
     "height": 51
    },
    "colab_type": "code",
    "executionInfo": {
     "elapsed": 12292,
     "status": "ok",
     "timestamp": 1598308229346,
     "user": {
      "displayName": "Sonali S",
      "photoUrl": "https://lh3.googleusercontent.com/a-/AOh14GidegHjA3IxpagtoQNSmgQC7q8CXGYeN9Bk4e4BXn8=s64",
      "userId": "10814057232685694934"
     },
     "user_tz": -330
    },
    "id": "Q5aG47UqCzMQ",
    "outputId": "cde618db-6bcc-4f4c-d5f3-6790cf1ff749"
   },
   "outputs": [
    {
     "name": "stdout",
     "output_type": "stream",
     "text": [
      "Enter the Month name : aug\n",
      "The entered month has 31 days\n"
     ]
    }
   ],
   "source": [
    "month = input(\"Enter the Month name : \")\n",
    "\n",
    "if month in (\"sept\",\"apr\",\"june\",\"nov\"):\n",
    "  print(\"The month entered has 30 days\")\n",
    "elif month in \"feb\":\n",
    "  print(\"The month entered has 28 or 29 days\")\n",
    "else:\n",
    "  print(\"The entered month has 31 days\")"
   ]
  },
  {
   "cell_type": "markdown",
   "metadata": {
    "colab_type": "text",
    "id": "QaKdCTl8Cz0X"
   },
   "source": [
    "### 12. Write a Python program to get next day of a given date."
   ]
  },
  {
   "cell_type": "code",
   "execution_count": 6,
   "metadata": {
    "colab": {
     "base_uri": "https://localhost:8080/",
     "height": 85
    },
    "colab_type": "code",
    "executionInfo": {
     "elapsed": 6899,
     "status": "ok",
     "timestamp": 1598379926520,
     "user": {
      "displayName": "Sonali S",
      "photoUrl": "https://lh3.googleusercontent.com/a-/AOh14GidegHjA3IxpagtoQNSmgQC7q8CXGYeN9Bk4e4BXn8=s64",
      "userId": "10814057232685694934"
     },
     "user_tz": -330
    },
    "id": "OCaaz2J819pQ",
    "outputId": "23b67740-2f7b-46e3-9c74-433657907ca5"
   },
   "outputs": [
    {
     "name": "stdout",
     "output_type": "stream",
     "text": [
      "Enter the Day(1-31) : 2\n",
      "Enter the Month(1-12): 2\n",
      "Enter the Year: 1700\n",
      "The date is : 3-2-1700\n"
     ]
    }
   ],
   "source": [
    "day = int(input(\"Enter the Day(1-31) : \"))\n",
    "month = int(input(\"Enter the Month(1-12): \"))\n",
    "year = int(input(\"Enter the Year: \"))\n",
    "month_31days =[1,3,5,7,8,10,12]\n",
    "month_30days =[4,6,9,11]\n",
    "month_all =[1,2,3,4,5,6,7,8,9,10,11,12]\n",
    "\n",
    "\n",
    "if month in month_31days and month==12 and day==31: #checking the Boundary condition\n",
    "    day=1\n",
    "    month=1\n",
    "    year = year+1\n",
    "    print(\"The date is : \" + str(day) + \"-\" + str(month) + \"-\" + str(year))\n",
    "elif month in month_31days and day in range(1,32):\n",
    "    day=day+1\n",
    "    print(\"The date is : \" + str(day) + \"-\" + str(month) + \"-\" + str(year))\n",
    "elif month in month_30days and day==30:\n",
    "    day=1\n",
    "    month=month+1\n",
    "    print(\"The date is : \" + str(day) + \"-\" + str(month) + \"-\" + str(year))\n",
    "elif month in month_30days and day in range(1,31):\n",
    "    day=day+1\n",
    "    print(\"The date is : \" + str(day) + \"-\" + str(month) + \"-\" + str(year))\n",
    "elif month == 2 and year%400==0 and day==29:\n",
    "    day=1\n",
    "    month=month+1\n",
    "    print(\"The date is : \" + str(day) + \"-\" + str(month) + \"-\" + str(year))\n",
    "elif month ==2 and year%4==0 and  day==29:\n",
    "    day=1\n",
    "    month=month+1\n",
    "    print(\"The date is : \" + str(day) + \"-\" + str(month) + \"-\" + str(year))\n",
    "elif month ==2 and year%400==0:\n",
    "    day=day+1\n",
    "    print(\"The date is : \" + str(day) + \"-\" + str(month) + \"-\" + str(year))\n",
    "elif month==2 and year%4==0 and year%100 != 0:\n",
    "    day=day+1\n",
    "    print(\"The date is : \" + str(day) + \"-\" + str(month) + \"-\" + str(year))\n",
    "elif month==2 and day==28:\n",
    "    day=1\n",
    "    month=month+1\n",
    "    print(\"The date is : \" + str(day) + \"-\" + str(month) + \"-\" + str(year))\n",
    "elif month==2 and day in range(1,29):\n",
    "    day=day+1\n",
    "    print(\"The date is : \" + str(day) + \"-\" + str(month) + \"-\" + str(year))\n",
    "else:\n",
    "    print(\"Entered date is invalid\")"
   ]
  },
  {
   "cell_type": "code",
   "execution_count": null,
   "metadata": {
    "colab": {},
    "colab_type": "code",
    "id": "yHZQOZCWeb-9"
   },
   "outputs": [],
   "source": [
    "year = int(input(\"Enter year : \"))\n",
    "\n",
    "if ((year % 4 == 0) and (year % 100 != 0)) or (year %400 == 0):\n",
    "    leap_year = True\n",
    "else:\n",
    "    leap_year = False\n",
    "\n",
    "while True:\n",
    "    month = int(input(\"Enter the Month : \"))\n",
    "    if month > 12:\n",
    "        print(\"Please enter a valid month between 1-12\")\n",
    "        continue\n",
    "    else:\n",
    "        break\n",
    "\n",
    "if month in (1, 3, 5, 7, 8, 10, 12):\n",
    "    month_day = 31\n",
    "elif month == 2:\n",
    "    if leap_year:\n",
    "        month_day = 29\n",
    "    else:\n",
    "        month_day = 28\n",
    "else:\n",
    "    month_day = 30\n",
    "\n",
    "while True:\n",
    "    day = int(input(\"Enter date between 1-31 : \"))\n",
    "    if day > month_day:\n",
    "        print(\"Please enter a valid day\")\n",
    "        continue\n",
    "    else:\n",
    "        break\n",
    "\n",
    "#Calculate the next day\n",
    "if day == month_day:\n",
    "    day = 1\n",
    "else:\n",
    "    day+=1\n",
    "\n",
    "if month == 12:\n",
    "    month = 1\n",
    "    year +=1\n",
    "else:\n",
    "    month+=1\n",
    "    \n",
    "print(\"Date is : \" + str(day) + \"-\" + str(month) + \"-\" + str(year))"
   ]
  }
 ],
 "metadata": {
  "colab": {
   "authorship_tag": "ABX9TyNV8orBwCKFX006UcN6Ic7W",
   "collapsed_sections": [],
   "name": "Python Assignment - 5 Conditional Statements.ipynb",
   "provenance": []
  },
  "kernelspec": {
   "display_name": "Python 3",
   "language": "python",
   "name": "python3"
  },
  "language_info": {
   "codemirror_mode": {
    "name": "ipython",
    "version": 3
   },
   "file_extension": ".py",
   "mimetype": "text/x-python",
   "name": "python",
   "nbconvert_exporter": "python",
   "pygments_lexer": "ipython3",
   "version": "3.7.1"
  }
 },
 "nbformat": 4,
 "nbformat_minor": 1
}
